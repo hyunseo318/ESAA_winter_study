{
  "cells": [
    {
      "cell_type": "markdown",
      "metadata": {
        "id": "view-in-github",
        "colab_type": "text"
      },
      "source": [
        "<a href=\"https://colab.research.google.com/github/hyunseo318/ESAA_study/blob/main/%EB%B0%A9%ED%95%99%EC%8A%A4%ED%84%B0%EB%94%94_%EC%95%88%EC%A0%84%EC%9A%B4%EC%A0%84%EC%9E%90%EC%98%88%EC%B8%A1.ipynb\" target=\"_parent\"><img src=\"https://colab.research.google.com/assets/colab-badge.svg\" alt=\"Open In Colab\"/></a>"
      ]
    },
    {
      "cell_type": "markdown",
      "metadata": {
        "id": "lBLVyRxdBZIn"
      },
      "source": [
        "# **8. 안전 운전자 예측**\n",
        "https://www.kaggle.com/c/porto-seguro-safe-driver-prediction\n",
        "\n",
        "포르투 세구로 보험사에서 제공한 고객 데이터를 활용해 운전자가 보험을 청구할 확률 예측\n",
        "\n",
        "- 문제 유형 : 이진분류\n",
        "- 평가 지표 : 정규화된 지니계수\n",
        "- 모델 : LightGBM과 XGBoost의 앙상블"
      ]
    },
    {
      "cell_type": "markdown",
      "metadata": {
        "id": "rRcX014uudCH"
      },
      "source": [
        "##**8.1 경진대회 이해**\n",
        "사고를 낼 가능성이 낮은 안전 운전자 : 보험료를 적게 청구\n",
        "\n",
        "사고 가능성이 높은 난폭 운전자 : 보험료를 많이 청구\n",
        "\n",
        "운전자가 보험금을 청구할 확률을 정확히 예측하는 모델을 만들어야 함"
      ]
    },
    {
      "cell_type": "markdown",
      "metadata": {
        "id": "Fn9kTlDwST_B"
      },
      "source": [
        "##**8.2 탐색적 데이터 분석**"
      ]
    },
    {
      "cell_type": "markdown",
      "metadata": {
        "id": "qt59qUyqSuCU"
      },
      "source": [
        "###**8.2.1 데이터 둘러보기**"
      ]
    },
    {
      "cell_type": "code",
      "execution_count": null,
      "metadata": {
        "id": "erjo-rMuq30H"
      },
      "outputs": [],
      "source": [
        "import pandas as pd\n",
        "\n",
        "#데이터 경로\n",
        "data_path = '/content/drive/MyDrive/ESAA/study/porto-seguro-safe-driver-prediction/'\n",
        "\n",
        "train = pd.read_csv(data_path +'train.csv', index_col = 'id')\n",
        "test = pd.read_csv(data_path +'test.csv', index_col = 'id')\n",
        "submission = pd.read_csv(data_path +'sample_submission.csv', index_col = 'id')"
      ]
    },
    {
      "cell_type": "code",
      "execution_count": null,
      "metadata": {
        "colab": {
          "base_uri": "https://localhost:8080/"
        },
        "id": "KSuxH2fQUpQt",
        "outputId": "9dd1eb4e-76d9-495b-95fd-125d014677d2"
      },
      "outputs": [
        {
          "data": {
            "text/plain": [
              "((595212, 58), (892816, 57))"
            ]
          },
          "execution_count": 10,
          "metadata": {},
          "output_type": "execute_result"
        }
      ],
      "source": [
        "train.shape, test.shape"
      ]
    },
    {
      "cell_type": "markdown",
      "metadata": {
        "id": "AE6pqbpAVBV_"
      },
      "source": [
        "훈련 데이터 약 59만개, 테스트 데이터 약 89만개, 피처 57개"
      ]
    },
    {
      "cell_type": "code",
      "execution_count": null,
      "metadata": {
        "colab": {
          "base_uri": "https://localhost:8080/",
          "height": 331
        },
        "id": "WeyfiDMDU7-C",
        "outputId": "b26a4158-fbb1-4f52-bf63-fbd5b2cffb78"
      },
      "outputs": [
        {
          "data": {
            "text/html": [
              "\n",
              "  <div id=\"df-4b6600f8-07f9-4aea-9477-9f68dcc998a3\">\n",
              "    <div class=\"colab-df-container\">\n",
              "      <div>\n",
              "<style scoped>\n",
              "    .dataframe tbody tr th:only-of-type {\n",
              "        vertical-align: middle;\n",
              "    }\n",
              "\n",
              "    .dataframe tbody tr th {\n",
              "        vertical-align: top;\n",
              "    }\n",
              "\n",
              "    .dataframe thead th {\n",
              "        text-align: right;\n",
              "    }\n",
              "</style>\n",
              "<table border=\"1\" class=\"dataframe\">\n",
              "  <thead>\n",
              "    <tr style=\"text-align: right;\">\n",
              "      <th></th>\n",
              "      <th>target</th>\n",
              "      <th>ps_ind_01</th>\n",
              "      <th>ps_ind_02_cat</th>\n",
              "      <th>ps_ind_03</th>\n",
              "      <th>ps_ind_04_cat</th>\n",
              "      <th>ps_ind_05_cat</th>\n",
              "      <th>ps_ind_06_bin</th>\n",
              "      <th>ps_ind_07_bin</th>\n",
              "      <th>ps_ind_08_bin</th>\n",
              "      <th>ps_ind_09_bin</th>\n",
              "      <th>...</th>\n",
              "      <th>ps_calc_11</th>\n",
              "      <th>ps_calc_12</th>\n",
              "      <th>ps_calc_13</th>\n",
              "      <th>ps_calc_14</th>\n",
              "      <th>ps_calc_15_bin</th>\n",
              "      <th>ps_calc_16_bin</th>\n",
              "      <th>ps_calc_17_bin</th>\n",
              "      <th>ps_calc_18_bin</th>\n",
              "      <th>ps_calc_19_bin</th>\n",
              "      <th>ps_calc_20_bin</th>\n",
              "    </tr>\n",
              "    <tr>\n",
              "      <th>id</th>\n",
              "      <th></th>\n",
              "      <th></th>\n",
              "      <th></th>\n",
              "      <th></th>\n",
              "      <th></th>\n",
              "      <th></th>\n",
              "      <th></th>\n",
              "      <th></th>\n",
              "      <th></th>\n",
              "      <th></th>\n",
              "      <th></th>\n",
              "      <th></th>\n",
              "      <th></th>\n",
              "      <th></th>\n",
              "      <th></th>\n",
              "      <th></th>\n",
              "      <th></th>\n",
              "      <th></th>\n",
              "      <th></th>\n",
              "      <th></th>\n",
              "      <th></th>\n",
              "    </tr>\n",
              "  </thead>\n",
              "  <tbody>\n",
              "    <tr>\n",
              "      <th>7</th>\n",
              "      <td>0</td>\n",
              "      <td>2</td>\n",
              "      <td>2</td>\n",
              "      <td>5</td>\n",
              "      <td>1</td>\n",
              "      <td>0</td>\n",
              "      <td>0</td>\n",
              "      <td>1</td>\n",
              "      <td>0</td>\n",
              "      <td>0</td>\n",
              "      <td>...</td>\n",
              "      <td>9</td>\n",
              "      <td>1</td>\n",
              "      <td>5</td>\n",
              "      <td>8</td>\n",
              "      <td>0</td>\n",
              "      <td>1</td>\n",
              "      <td>1</td>\n",
              "      <td>0</td>\n",
              "      <td>0</td>\n",
              "      <td>1</td>\n",
              "    </tr>\n",
              "    <tr>\n",
              "      <th>9</th>\n",
              "      <td>0</td>\n",
              "      <td>1</td>\n",
              "      <td>1</td>\n",
              "      <td>7</td>\n",
              "      <td>0</td>\n",
              "      <td>0</td>\n",
              "      <td>0</td>\n",
              "      <td>0</td>\n",
              "      <td>1</td>\n",
              "      <td>0</td>\n",
              "      <td>...</td>\n",
              "      <td>3</td>\n",
              "      <td>1</td>\n",
              "      <td>1</td>\n",
              "      <td>9</td>\n",
              "      <td>0</td>\n",
              "      <td>1</td>\n",
              "      <td>1</td>\n",
              "      <td>0</td>\n",
              "      <td>1</td>\n",
              "      <td>0</td>\n",
              "    </tr>\n",
              "    <tr>\n",
              "      <th>13</th>\n",
              "      <td>0</td>\n",
              "      <td>5</td>\n",
              "      <td>4</td>\n",
              "      <td>9</td>\n",
              "      <td>1</td>\n",
              "      <td>0</td>\n",
              "      <td>0</td>\n",
              "      <td>0</td>\n",
              "      <td>1</td>\n",
              "      <td>0</td>\n",
              "      <td>...</td>\n",
              "      <td>4</td>\n",
              "      <td>2</td>\n",
              "      <td>7</td>\n",
              "      <td>7</td>\n",
              "      <td>0</td>\n",
              "      <td>1</td>\n",
              "      <td>1</td>\n",
              "      <td>0</td>\n",
              "      <td>1</td>\n",
              "      <td>0</td>\n",
              "    </tr>\n",
              "    <tr>\n",
              "      <th>16</th>\n",
              "      <td>0</td>\n",
              "      <td>0</td>\n",
              "      <td>1</td>\n",
              "      <td>2</td>\n",
              "      <td>0</td>\n",
              "      <td>0</td>\n",
              "      <td>1</td>\n",
              "      <td>0</td>\n",
              "      <td>0</td>\n",
              "      <td>0</td>\n",
              "      <td>...</td>\n",
              "      <td>2</td>\n",
              "      <td>2</td>\n",
              "      <td>4</td>\n",
              "      <td>9</td>\n",
              "      <td>0</td>\n",
              "      <td>0</td>\n",
              "      <td>0</td>\n",
              "      <td>0</td>\n",
              "      <td>0</td>\n",
              "      <td>0</td>\n",
              "    </tr>\n",
              "    <tr>\n",
              "      <th>17</th>\n",
              "      <td>0</td>\n",
              "      <td>0</td>\n",
              "      <td>2</td>\n",
              "      <td>0</td>\n",
              "      <td>1</td>\n",
              "      <td>0</td>\n",
              "      <td>1</td>\n",
              "      <td>0</td>\n",
              "      <td>0</td>\n",
              "      <td>0</td>\n",
              "      <td>...</td>\n",
              "      <td>3</td>\n",
              "      <td>1</td>\n",
              "      <td>1</td>\n",
              "      <td>3</td>\n",
              "      <td>0</td>\n",
              "      <td>0</td>\n",
              "      <td>0</td>\n",
              "      <td>1</td>\n",
              "      <td>1</td>\n",
              "      <td>0</td>\n",
              "    </tr>\n",
              "  </tbody>\n",
              "</table>\n",
              "<p>5 rows × 58 columns</p>\n",
              "</div>\n",
              "      <button class=\"colab-df-convert\" onclick=\"convertToInteractive('df-4b6600f8-07f9-4aea-9477-9f68dcc998a3')\"\n",
              "              title=\"Convert this dataframe to an interactive table.\"\n",
              "              style=\"display:none;\">\n",
              "        \n",
              "  <svg xmlns=\"http://www.w3.org/2000/svg\" height=\"24px\"viewBox=\"0 0 24 24\"\n",
              "       width=\"24px\">\n",
              "    <path d=\"M0 0h24v24H0V0z\" fill=\"none\"/>\n",
              "    <path d=\"M18.56 5.44l.94 2.06.94-2.06 2.06-.94-2.06-.94-.94-2.06-.94 2.06-2.06.94zm-11 1L8.5 8.5l.94-2.06 2.06-.94-2.06-.94L8.5 2.5l-.94 2.06-2.06.94zm10 10l.94 2.06.94-2.06 2.06-.94-2.06-.94-.94-2.06-.94 2.06-2.06.94z\"/><path d=\"M17.41 7.96l-1.37-1.37c-.4-.4-.92-.59-1.43-.59-.52 0-1.04.2-1.43.59L10.3 9.45l-7.72 7.72c-.78.78-.78 2.05 0 2.83L4 21.41c.39.39.9.59 1.41.59.51 0 1.02-.2 1.41-.59l7.78-7.78 2.81-2.81c.8-.78.8-2.07 0-2.86zM5.41 20L4 18.59l7.72-7.72 1.47 1.35L5.41 20z\"/>\n",
              "  </svg>\n",
              "      </button>\n",
              "      \n",
              "  <style>\n",
              "    .colab-df-container {\n",
              "      display:flex;\n",
              "      flex-wrap:wrap;\n",
              "      gap: 12px;\n",
              "    }\n",
              "\n",
              "    .colab-df-convert {\n",
              "      background-color: #E8F0FE;\n",
              "      border: none;\n",
              "      border-radius: 50%;\n",
              "      cursor: pointer;\n",
              "      display: none;\n",
              "      fill: #1967D2;\n",
              "      height: 32px;\n",
              "      padding: 0 0 0 0;\n",
              "      width: 32px;\n",
              "    }\n",
              "\n",
              "    .colab-df-convert:hover {\n",
              "      background-color: #E2EBFA;\n",
              "      box-shadow: 0px 1px 2px rgba(60, 64, 67, 0.3), 0px 1px 3px 1px rgba(60, 64, 67, 0.15);\n",
              "      fill: #174EA6;\n",
              "    }\n",
              "\n",
              "    [theme=dark] .colab-df-convert {\n",
              "      background-color: #3B4455;\n",
              "      fill: #D2E3FC;\n",
              "    }\n",
              "\n",
              "    [theme=dark] .colab-df-convert:hover {\n",
              "      background-color: #434B5C;\n",
              "      box-shadow: 0px 1px 3px 1px rgba(0, 0, 0, 0.15);\n",
              "      filter: drop-shadow(0px 1px 2px rgba(0, 0, 0, 0.3));\n",
              "      fill: #FFFFFF;\n",
              "    }\n",
              "  </style>\n",
              "\n",
              "      <script>\n",
              "        const buttonEl =\n",
              "          document.querySelector('#df-4b6600f8-07f9-4aea-9477-9f68dcc998a3 button.colab-df-convert');\n",
              "        buttonEl.style.display =\n",
              "          google.colab.kernel.accessAllowed ? 'block' : 'none';\n",
              "\n",
              "        async function convertToInteractive(key) {\n",
              "          const element = document.querySelector('#df-4b6600f8-07f9-4aea-9477-9f68dcc998a3');\n",
              "          const dataTable =\n",
              "            await google.colab.kernel.invokeFunction('convertToInteractive',\n",
              "                                                     [key], {});\n",
              "          if (!dataTable) return;\n",
              "\n",
              "          const docLinkHtml = 'Like what you see? Visit the ' +\n",
              "            '<a target=\"_blank\" href=https://colab.research.google.com/notebooks/data_table.ipynb>data table notebook</a>'\n",
              "            + ' to learn more about interactive tables.';\n",
              "          element.innerHTML = '';\n",
              "          dataTable['output_type'] = 'display_data';\n",
              "          await google.colab.output.renderOutput(dataTable, element);\n",
              "          const docLink = document.createElement('div');\n",
              "          docLink.innerHTML = docLinkHtml;\n",
              "          element.appendChild(docLink);\n",
              "        }\n",
              "      </script>\n",
              "    </div>\n",
              "  </div>\n",
              "  "
            ],
            "text/plain": [
              "    target  ps_ind_01  ps_ind_02_cat  ps_ind_03  ps_ind_04_cat  ps_ind_05_cat  \\\n",
              "id                                                                              \n",
              "7        0          2              2          5              1              0   \n",
              "9        0          1              1          7              0              0   \n",
              "13       0          5              4          9              1              0   \n",
              "16       0          0              1          2              0              0   \n",
              "17       0          0              2          0              1              0   \n",
              "\n",
              "    ps_ind_06_bin  ps_ind_07_bin  ps_ind_08_bin  ps_ind_09_bin  ...  \\\n",
              "id                                                              ...   \n",
              "7               0              1              0              0  ...   \n",
              "9               0              0              1              0  ...   \n",
              "13              0              0              1              0  ...   \n",
              "16              1              0              0              0  ...   \n",
              "17              1              0              0              0  ...   \n",
              "\n",
              "    ps_calc_11  ps_calc_12  ps_calc_13  ps_calc_14  ps_calc_15_bin  \\\n",
              "id                                                                   \n",
              "7            9           1           5           8               0   \n",
              "9            3           1           1           9               0   \n",
              "13           4           2           7           7               0   \n",
              "16           2           2           4           9               0   \n",
              "17           3           1           1           3               0   \n",
              "\n",
              "    ps_calc_16_bin  ps_calc_17_bin  ps_calc_18_bin  ps_calc_19_bin  \\\n",
              "id                                                                   \n",
              "7                1               1               0               0   \n",
              "9                1               1               0               1   \n",
              "13               1               1               0               1   \n",
              "16               0               0               0               0   \n",
              "17               0               0               1               1   \n",
              "\n",
              "    ps_calc_20_bin  \n",
              "id                  \n",
              "7                1  \n",
              "9                0  \n",
              "13               0  \n",
              "16               0  \n",
              "17               0  \n",
              "\n",
              "[5 rows x 58 columns]"
            ]
          },
          "execution_count": 11,
          "metadata": {},
          "output_type": "execute_result"
        }
      ],
      "source": [
        "train.head()"
      ]
    },
    {
      "cell_type": "code",
      "execution_count": null,
      "metadata": {
        "colab": {
          "base_uri": "https://localhost:8080/",
          "height": 331
        },
        "id": "u9iOJUb-VJUM",
        "outputId": "7b906084-875c-4492-aa87-640b179375b9"
      },
      "outputs": [
        {
          "data": {
            "text/html": [
              "\n",
              "  <div id=\"df-349943bd-ec4b-4621-905e-d7d9654c8200\">\n",
              "    <div class=\"colab-df-container\">\n",
              "      <div>\n",
              "<style scoped>\n",
              "    .dataframe tbody tr th:only-of-type {\n",
              "        vertical-align: middle;\n",
              "    }\n",
              "\n",
              "    .dataframe tbody tr th {\n",
              "        vertical-align: top;\n",
              "    }\n",
              "\n",
              "    .dataframe thead th {\n",
              "        text-align: right;\n",
              "    }\n",
              "</style>\n",
              "<table border=\"1\" class=\"dataframe\">\n",
              "  <thead>\n",
              "    <tr style=\"text-align: right;\">\n",
              "      <th></th>\n",
              "      <th>ps_ind_01</th>\n",
              "      <th>ps_ind_02_cat</th>\n",
              "      <th>ps_ind_03</th>\n",
              "      <th>ps_ind_04_cat</th>\n",
              "      <th>ps_ind_05_cat</th>\n",
              "      <th>ps_ind_06_bin</th>\n",
              "      <th>ps_ind_07_bin</th>\n",
              "      <th>ps_ind_08_bin</th>\n",
              "      <th>ps_ind_09_bin</th>\n",
              "      <th>ps_ind_10_bin</th>\n",
              "      <th>...</th>\n",
              "      <th>ps_calc_11</th>\n",
              "      <th>ps_calc_12</th>\n",
              "      <th>ps_calc_13</th>\n",
              "      <th>ps_calc_14</th>\n",
              "      <th>ps_calc_15_bin</th>\n",
              "      <th>ps_calc_16_bin</th>\n",
              "      <th>ps_calc_17_bin</th>\n",
              "      <th>ps_calc_18_bin</th>\n",
              "      <th>ps_calc_19_bin</th>\n",
              "      <th>ps_calc_20_bin</th>\n",
              "    </tr>\n",
              "    <tr>\n",
              "      <th>id</th>\n",
              "      <th></th>\n",
              "      <th></th>\n",
              "      <th></th>\n",
              "      <th></th>\n",
              "      <th></th>\n",
              "      <th></th>\n",
              "      <th></th>\n",
              "      <th></th>\n",
              "      <th></th>\n",
              "      <th></th>\n",
              "      <th></th>\n",
              "      <th></th>\n",
              "      <th></th>\n",
              "      <th></th>\n",
              "      <th></th>\n",
              "      <th></th>\n",
              "      <th></th>\n",
              "      <th></th>\n",
              "      <th></th>\n",
              "      <th></th>\n",
              "      <th></th>\n",
              "    </tr>\n",
              "  </thead>\n",
              "  <tbody>\n",
              "    <tr>\n",
              "      <th>0</th>\n",
              "      <td>0</td>\n",
              "      <td>1</td>\n",
              "      <td>8</td>\n",
              "      <td>1</td>\n",
              "      <td>0</td>\n",
              "      <td>0</td>\n",
              "      <td>1</td>\n",
              "      <td>0</td>\n",
              "      <td>0</td>\n",
              "      <td>0</td>\n",
              "      <td>...</td>\n",
              "      <td>1</td>\n",
              "      <td>1</td>\n",
              "      <td>1</td>\n",
              "      <td>12</td>\n",
              "      <td>0</td>\n",
              "      <td>1</td>\n",
              "      <td>1</td>\n",
              "      <td>0</td>\n",
              "      <td>0</td>\n",
              "      <td>1</td>\n",
              "    </tr>\n",
              "    <tr>\n",
              "      <th>1</th>\n",
              "      <td>4</td>\n",
              "      <td>2</td>\n",
              "      <td>5</td>\n",
              "      <td>1</td>\n",
              "      <td>0</td>\n",
              "      <td>0</td>\n",
              "      <td>0</td>\n",
              "      <td>0</td>\n",
              "      <td>1</td>\n",
              "      <td>0</td>\n",
              "      <td>...</td>\n",
              "      <td>2</td>\n",
              "      <td>0</td>\n",
              "      <td>3</td>\n",
              "      <td>10</td>\n",
              "      <td>0</td>\n",
              "      <td>0</td>\n",
              "      <td>1</td>\n",
              "      <td>1</td>\n",
              "      <td>0</td>\n",
              "      <td>1</td>\n",
              "    </tr>\n",
              "    <tr>\n",
              "      <th>2</th>\n",
              "      <td>5</td>\n",
              "      <td>1</td>\n",
              "      <td>3</td>\n",
              "      <td>0</td>\n",
              "      <td>0</td>\n",
              "      <td>0</td>\n",
              "      <td>0</td>\n",
              "      <td>0</td>\n",
              "      <td>1</td>\n",
              "      <td>0</td>\n",
              "      <td>...</td>\n",
              "      <td>4</td>\n",
              "      <td>0</td>\n",
              "      <td>2</td>\n",
              "      <td>4</td>\n",
              "      <td>0</td>\n",
              "      <td>0</td>\n",
              "      <td>0</td>\n",
              "      <td>0</td>\n",
              "      <td>0</td>\n",
              "      <td>0</td>\n",
              "    </tr>\n",
              "    <tr>\n",
              "      <th>3</th>\n",
              "      <td>0</td>\n",
              "      <td>1</td>\n",
              "      <td>6</td>\n",
              "      <td>0</td>\n",
              "      <td>0</td>\n",
              "      <td>1</td>\n",
              "      <td>0</td>\n",
              "      <td>0</td>\n",
              "      <td>0</td>\n",
              "      <td>0</td>\n",
              "      <td>...</td>\n",
              "      <td>5</td>\n",
              "      <td>1</td>\n",
              "      <td>0</td>\n",
              "      <td>5</td>\n",
              "      <td>1</td>\n",
              "      <td>0</td>\n",
              "      <td>1</td>\n",
              "      <td>0</td>\n",
              "      <td>0</td>\n",
              "      <td>0</td>\n",
              "    </tr>\n",
              "    <tr>\n",
              "      <th>4</th>\n",
              "      <td>5</td>\n",
              "      <td>1</td>\n",
              "      <td>7</td>\n",
              "      <td>0</td>\n",
              "      <td>0</td>\n",
              "      <td>0</td>\n",
              "      <td>0</td>\n",
              "      <td>0</td>\n",
              "      <td>1</td>\n",
              "      <td>0</td>\n",
              "      <td>...</td>\n",
              "      <td>4</td>\n",
              "      <td>0</td>\n",
              "      <td>0</td>\n",
              "      <td>4</td>\n",
              "      <td>0</td>\n",
              "      <td>1</td>\n",
              "      <td>1</td>\n",
              "      <td>0</td>\n",
              "      <td>0</td>\n",
              "      <td>1</td>\n",
              "    </tr>\n",
              "  </tbody>\n",
              "</table>\n",
              "<p>5 rows × 57 columns</p>\n",
              "</div>\n",
              "      <button class=\"colab-df-convert\" onclick=\"convertToInteractive('df-349943bd-ec4b-4621-905e-d7d9654c8200')\"\n",
              "              title=\"Convert this dataframe to an interactive table.\"\n",
              "              style=\"display:none;\">\n",
              "        \n",
              "  <svg xmlns=\"http://www.w3.org/2000/svg\" height=\"24px\"viewBox=\"0 0 24 24\"\n",
              "       width=\"24px\">\n",
              "    <path d=\"M0 0h24v24H0V0z\" fill=\"none\"/>\n",
              "    <path d=\"M18.56 5.44l.94 2.06.94-2.06 2.06-.94-2.06-.94-.94-2.06-.94 2.06-2.06.94zm-11 1L8.5 8.5l.94-2.06 2.06-.94-2.06-.94L8.5 2.5l-.94 2.06-2.06.94zm10 10l.94 2.06.94-2.06 2.06-.94-2.06-.94-.94-2.06-.94 2.06-2.06.94z\"/><path d=\"M17.41 7.96l-1.37-1.37c-.4-.4-.92-.59-1.43-.59-.52 0-1.04.2-1.43.59L10.3 9.45l-7.72 7.72c-.78.78-.78 2.05 0 2.83L4 21.41c.39.39.9.59 1.41.59.51 0 1.02-.2 1.41-.59l7.78-7.78 2.81-2.81c.8-.78.8-2.07 0-2.86zM5.41 20L4 18.59l7.72-7.72 1.47 1.35L5.41 20z\"/>\n",
              "  </svg>\n",
              "      </button>\n",
              "      \n",
              "  <style>\n",
              "    .colab-df-container {\n",
              "      display:flex;\n",
              "      flex-wrap:wrap;\n",
              "      gap: 12px;\n",
              "    }\n",
              "\n",
              "    .colab-df-convert {\n",
              "      background-color: #E8F0FE;\n",
              "      border: none;\n",
              "      border-radius: 50%;\n",
              "      cursor: pointer;\n",
              "      display: none;\n",
              "      fill: #1967D2;\n",
              "      height: 32px;\n",
              "      padding: 0 0 0 0;\n",
              "      width: 32px;\n",
              "    }\n",
              "\n",
              "    .colab-df-convert:hover {\n",
              "      background-color: #E2EBFA;\n",
              "      box-shadow: 0px 1px 2px rgba(60, 64, 67, 0.3), 0px 1px 3px 1px rgba(60, 64, 67, 0.15);\n",
              "      fill: #174EA6;\n",
              "    }\n",
              "\n",
              "    [theme=dark] .colab-df-convert {\n",
              "      background-color: #3B4455;\n",
              "      fill: #D2E3FC;\n",
              "    }\n",
              "\n",
              "    [theme=dark] .colab-df-convert:hover {\n",
              "      background-color: #434B5C;\n",
              "      box-shadow: 0px 1px 3px 1px rgba(0, 0, 0, 0.15);\n",
              "      filter: drop-shadow(0px 1px 2px rgba(0, 0, 0, 0.3));\n",
              "      fill: #FFFFFF;\n",
              "    }\n",
              "  </style>\n",
              "\n",
              "      <script>\n",
              "        const buttonEl =\n",
              "          document.querySelector('#df-349943bd-ec4b-4621-905e-d7d9654c8200 button.colab-df-convert');\n",
              "        buttonEl.style.display =\n",
              "          google.colab.kernel.accessAllowed ? 'block' : 'none';\n",
              "\n",
              "        async function convertToInteractive(key) {\n",
              "          const element = document.querySelector('#df-349943bd-ec4b-4621-905e-d7d9654c8200');\n",
              "          const dataTable =\n",
              "            await google.colab.kernel.invokeFunction('convertToInteractive',\n",
              "                                                     [key], {});\n",
              "          if (!dataTable) return;\n",
              "\n",
              "          const docLinkHtml = 'Like what you see? Visit the ' +\n",
              "            '<a target=\"_blank\" href=https://colab.research.google.com/notebooks/data_table.ipynb>data table notebook</a>'\n",
              "            + ' to learn more about interactive tables.';\n",
              "          element.innerHTML = '';\n",
              "          dataTable['output_type'] = 'display_data';\n",
              "          await google.colab.output.renderOutput(dataTable, element);\n",
              "          const docLink = document.createElement('div');\n",
              "          docLink.innerHTML = docLinkHtml;\n",
              "          element.appendChild(docLink);\n",
              "        }\n",
              "      </script>\n",
              "    </div>\n",
              "  </div>\n",
              "  "
            ],
            "text/plain": [
              "    ps_ind_01  ps_ind_02_cat  ps_ind_03  ps_ind_04_cat  ps_ind_05_cat  \\\n",
              "id                                                                      \n",
              "0           0              1          8              1              0   \n",
              "1           4              2          5              1              0   \n",
              "2           5              1          3              0              0   \n",
              "3           0              1          6              0              0   \n",
              "4           5              1          7              0              0   \n",
              "\n",
              "    ps_ind_06_bin  ps_ind_07_bin  ps_ind_08_bin  ps_ind_09_bin  ps_ind_10_bin  \\\n",
              "id                                                                              \n",
              "0               0              1              0              0              0   \n",
              "1               0              0              0              1              0   \n",
              "2               0              0              0              1              0   \n",
              "3               1              0              0              0              0   \n",
              "4               0              0              0              1              0   \n",
              "\n",
              "    ...  ps_calc_11  ps_calc_12  ps_calc_13  ps_calc_14  ps_calc_15_bin  \\\n",
              "id  ...                                                                   \n",
              "0   ...           1           1           1          12               0   \n",
              "1   ...           2           0           3          10               0   \n",
              "2   ...           4           0           2           4               0   \n",
              "3   ...           5           1           0           5               1   \n",
              "4   ...           4           0           0           4               0   \n",
              "\n",
              "    ps_calc_16_bin  ps_calc_17_bin  ps_calc_18_bin  ps_calc_19_bin  \\\n",
              "id                                                                   \n",
              "0                1               1               0               0   \n",
              "1                0               1               1               0   \n",
              "2                0               0               0               0   \n",
              "3                0               1               0               0   \n",
              "4                1               1               0               0   \n",
              "\n",
              "    ps_calc_20_bin  \n",
              "id                  \n",
              "0                1  \n",
              "1                1  \n",
              "2                0  \n",
              "3                0  \n",
              "4                1  \n",
              "\n",
              "[5 rows x 57 columns]"
            ]
          },
          "execution_count": 12,
          "metadata": {},
          "output_type": "execute_result"
        }
      ],
      "source": [
        "test.head()"
      ]
    },
    {
      "cell_type": "code",
      "execution_count": null,
      "metadata": {
        "colab": {
          "base_uri": "https://localhost:8080/",
          "height": 237
        },
        "id": "k-aDTDrWWXqq",
        "outputId": "1186de36-0ab6-4b04-9c8c-8b789df6ab4c"
      },
      "outputs": [
        {
          "data": {
            "text/html": [
              "\n",
              "  <div id=\"df-abfea070-b7d7-4d0e-b7d7-f964a154a504\">\n",
              "    <div class=\"colab-df-container\">\n",
              "      <div>\n",
              "<style scoped>\n",
              "    .dataframe tbody tr th:only-of-type {\n",
              "        vertical-align: middle;\n",
              "    }\n",
              "\n",
              "    .dataframe tbody tr th {\n",
              "        vertical-align: top;\n",
              "    }\n",
              "\n",
              "    .dataframe thead th {\n",
              "        text-align: right;\n",
              "    }\n",
              "</style>\n",
              "<table border=\"1\" class=\"dataframe\">\n",
              "  <thead>\n",
              "    <tr style=\"text-align: right;\">\n",
              "      <th></th>\n",
              "      <th>target</th>\n",
              "    </tr>\n",
              "    <tr>\n",
              "      <th>id</th>\n",
              "      <th></th>\n",
              "    </tr>\n",
              "  </thead>\n",
              "  <tbody>\n",
              "    <tr>\n",
              "      <th>0</th>\n",
              "      <td>0.0364</td>\n",
              "    </tr>\n",
              "    <tr>\n",
              "      <th>1</th>\n",
              "      <td>0.0364</td>\n",
              "    </tr>\n",
              "    <tr>\n",
              "      <th>2</th>\n",
              "      <td>0.0364</td>\n",
              "    </tr>\n",
              "    <tr>\n",
              "      <th>3</th>\n",
              "      <td>0.0364</td>\n",
              "    </tr>\n",
              "    <tr>\n",
              "      <th>4</th>\n",
              "      <td>0.0364</td>\n",
              "    </tr>\n",
              "  </tbody>\n",
              "</table>\n",
              "</div>\n",
              "      <button class=\"colab-df-convert\" onclick=\"convertToInteractive('df-abfea070-b7d7-4d0e-b7d7-f964a154a504')\"\n",
              "              title=\"Convert this dataframe to an interactive table.\"\n",
              "              style=\"display:none;\">\n",
              "        \n",
              "  <svg xmlns=\"http://www.w3.org/2000/svg\" height=\"24px\"viewBox=\"0 0 24 24\"\n",
              "       width=\"24px\">\n",
              "    <path d=\"M0 0h24v24H0V0z\" fill=\"none\"/>\n",
              "    <path d=\"M18.56 5.44l.94 2.06.94-2.06 2.06-.94-2.06-.94-.94-2.06-.94 2.06-2.06.94zm-11 1L8.5 8.5l.94-2.06 2.06-.94-2.06-.94L8.5 2.5l-.94 2.06-2.06.94zm10 10l.94 2.06.94-2.06 2.06-.94-2.06-.94-.94-2.06-.94 2.06-2.06.94z\"/><path d=\"M17.41 7.96l-1.37-1.37c-.4-.4-.92-.59-1.43-.59-.52 0-1.04.2-1.43.59L10.3 9.45l-7.72 7.72c-.78.78-.78 2.05 0 2.83L4 21.41c.39.39.9.59 1.41.59.51 0 1.02-.2 1.41-.59l7.78-7.78 2.81-2.81c.8-.78.8-2.07 0-2.86zM5.41 20L4 18.59l7.72-7.72 1.47 1.35L5.41 20z\"/>\n",
              "  </svg>\n",
              "      </button>\n",
              "      \n",
              "  <style>\n",
              "    .colab-df-container {\n",
              "      display:flex;\n",
              "      flex-wrap:wrap;\n",
              "      gap: 12px;\n",
              "    }\n",
              "\n",
              "    .colab-df-convert {\n",
              "      background-color: #E8F0FE;\n",
              "      border: none;\n",
              "      border-radius: 50%;\n",
              "      cursor: pointer;\n",
              "      display: none;\n",
              "      fill: #1967D2;\n",
              "      height: 32px;\n",
              "      padding: 0 0 0 0;\n",
              "      width: 32px;\n",
              "    }\n",
              "\n",
              "    .colab-df-convert:hover {\n",
              "      background-color: #E2EBFA;\n",
              "      box-shadow: 0px 1px 2px rgba(60, 64, 67, 0.3), 0px 1px 3px 1px rgba(60, 64, 67, 0.15);\n",
              "      fill: #174EA6;\n",
              "    }\n",
              "\n",
              "    [theme=dark] .colab-df-convert {\n",
              "      background-color: #3B4455;\n",
              "      fill: #D2E3FC;\n",
              "    }\n",
              "\n",
              "    [theme=dark] .colab-df-convert:hover {\n",
              "      background-color: #434B5C;\n",
              "      box-shadow: 0px 1px 3px 1px rgba(0, 0, 0, 0.15);\n",
              "      filter: drop-shadow(0px 1px 2px rgba(0, 0, 0, 0.3));\n",
              "      fill: #FFFFFF;\n",
              "    }\n",
              "  </style>\n",
              "\n",
              "      <script>\n",
              "        const buttonEl =\n",
              "          document.querySelector('#df-abfea070-b7d7-4d0e-b7d7-f964a154a504 button.colab-df-convert');\n",
              "        buttonEl.style.display =\n",
              "          google.colab.kernel.accessAllowed ? 'block' : 'none';\n",
              "\n",
              "        async function convertToInteractive(key) {\n",
              "          const element = document.querySelector('#df-abfea070-b7d7-4d0e-b7d7-f964a154a504');\n",
              "          const dataTable =\n",
              "            await google.colab.kernel.invokeFunction('convertToInteractive',\n",
              "                                                     [key], {});\n",
              "          if (!dataTable) return;\n",
              "\n",
              "          const docLinkHtml = 'Like what you see? Visit the ' +\n",
              "            '<a target=\"_blank\" href=https://colab.research.google.com/notebooks/data_table.ipynb>data table notebook</a>'\n",
              "            + ' to learn more about interactive tables.';\n",
              "          element.innerHTML = '';\n",
              "          dataTable['output_type'] = 'display_data';\n",
              "          await google.colab.output.renderOutput(dataTable, element);\n",
              "          const docLink = document.createElement('div');\n",
              "          docLink.innerHTML = docLinkHtml;\n",
              "          element.appendChild(docLink);\n",
              "        }\n",
              "      </script>\n",
              "    </div>\n",
              "  </div>\n",
              "  "
            ],
            "text/plain": [
              "    target\n",
              "id        \n",
              "0   0.0364\n",
              "1   0.0364\n",
              "2   0.0364\n",
              "3   0.0364\n",
              "4   0.0364"
            ]
          },
          "execution_count": 13,
          "metadata": {},
          "output_type": "execute_result"
        }
      ],
      "source": [
        "submission.head()"
      ]
    },
    {
      "cell_type": "code",
      "execution_count": null,
      "metadata": {
        "colab": {
          "base_uri": "https://localhost:8080/"
        },
        "id": "E7iCVYUmWdBv",
        "outputId": "826c73bb-6429-4fc5-f6b2-42cb01baa399"
      },
      "outputs": [
        {
          "name": "stdout",
          "output_type": "stream",
          "text": [
            "<class 'pandas.core.frame.DataFrame'>\n",
            "Int64Index: 595212 entries, 7 to 1488027\n",
            "Data columns (total 58 columns):\n",
            " #   Column          Non-Null Count   Dtype  \n",
            "---  ------          --------------   -----  \n",
            " 0   target          595212 non-null  int64  \n",
            " 1   ps_ind_01       595212 non-null  int64  \n",
            " 2   ps_ind_02_cat   595212 non-null  int64  \n",
            " 3   ps_ind_03       595212 non-null  int64  \n",
            " 4   ps_ind_04_cat   595212 non-null  int64  \n",
            " 5   ps_ind_05_cat   595212 non-null  int64  \n",
            " 6   ps_ind_06_bin   595212 non-null  int64  \n",
            " 7   ps_ind_07_bin   595212 non-null  int64  \n",
            " 8   ps_ind_08_bin   595212 non-null  int64  \n",
            " 9   ps_ind_09_bin   595212 non-null  int64  \n",
            " 10  ps_ind_10_bin   595212 non-null  int64  \n",
            " 11  ps_ind_11_bin   595212 non-null  int64  \n",
            " 12  ps_ind_12_bin   595212 non-null  int64  \n",
            " 13  ps_ind_13_bin   595212 non-null  int64  \n",
            " 14  ps_ind_14       595212 non-null  int64  \n",
            " 15  ps_ind_15       595212 non-null  int64  \n",
            " 16  ps_ind_16_bin   595212 non-null  int64  \n",
            " 17  ps_ind_17_bin   595212 non-null  int64  \n",
            " 18  ps_ind_18_bin   595212 non-null  int64  \n",
            " 19  ps_reg_01       595212 non-null  float64\n",
            " 20  ps_reg_02       595212 non-null  float64\n",
            " 21  ps_reg_03       595212 non-null  float64\n",
            " 22  ps_car_01_cat   595212 non-null  int64  \n",
            " 23  ps_car_02_cat   595212 non-null  int64  \n",
            " 24  ps_car_03_cat   595212 non-null  int64  \n",
            " 25  ps_car_04_cat   595212 non-null  int64  \n",
            " 26  ps_car_05_cat   595212 non-null  int64  \n",
            " 27  ps_car_06_cat   595212 non-null  int64  \n",
            " 28  ps_car_07_cat   595212 non-null  int64  \n",
            " 29  ps_car_08_cat   595212 non-null  int64  \n",
            " 30  ps_car_09_cat   595212 non-null  int64  \n",
            " 31  ps_car_10_cat   595212 non-null  int64  \n",
            " 32  ps_car_11_cat   595212 non-null  int64  \n",
            " 33  ps_car_11       595212 non-null  int64  \n",
            " 34  ps_car_12       595212 non-null  float64\n",
            " 35  ps_car_13       595212 non-null  float64\n",
            " 36  ps_car_14       595212 non-null  float64\n",
            " 37  ps_car_15       595212 non-null  float64\n",
            " 38  ps_calc_01      595212 non-null  float64\n",
            " 39  ps_calc_02      595212 non-null  float64\n",
            " 40  ps_calc_03      595212 non-null  float64\n",
            " 41  ps_calc_04      595212 non-null  int64  \n",
            " 42  ps_calc_05      595212 non-null  int64  \n",
            " 43  ps_calc_06      595212 non-null  int64  \n",
            " 44  ps_calc_07      595212 non-null  int64  \n",
            " 45  ps_calc_08      595212 non-null  int64  \n",
            " 46  ps_calc_09      595212 non-null  int64  \n",
            " 47  ps_calc_10      595212 non-null  int64  \n",
            " 48  ps_calc_11      595212 non-null  int64  \n",
            " 49  ps_calc_12      595212 non-null  int64  \n",
            " 50  ps_calc_13      595212 non-null  int64  \n",
            " 51  ps_calc_14      595212 non-null  int64  \n",
            " 52  ps_calc_15_bin  595212 non-null  int64  \n",
            " 53  ps_calc_16_bin  595212 non-null  int64  \n",
            " 54  ps_calc_17_bin  595212 non-null  int64  \n",
            " 55  ps_calc_18_bin  595212 non-null  int64  \n",
            " 56  ps_calc_19_bin  595212 non-null  int64  \n",
            " 57  ps_calc_20_bin  595212 non-null  int64  \n",
            "dtypes: float64(10), int64(48)\n",
            "memory usage: 267.9 MB\n"
          ]
        }
      ],
      "source": [
        "train.info()"
      ]
    },
    {
      "cell_type": "markdown",
      "metadata": {
        "id": "1keIwebNWizo"
      },
      "source": [
        "**피처명 비식별화**\n",
        "\n",
        "`ps_[분류]_[분류별 일련번호]_[데이터종류]`\n",
        "- 분류 : ind, reg, car, calc\n",
        "- 데이터 종류 : bin, cat\n",
        "\n"
      ]
    },
    {
      "cell_type": "markdown",
      "metadata": {
        "id": "0gEJiJ_a8TFE"
      },
      "source": [
        "**결측값 확인**\n",
        "- `missingno` : 결측값 시각화하는 패키지\n",
        "  - bar() : 결측값을 막대그래프 형태로 시각화, 막대그래프 높이가 낮을수록 결측값이 많다"
      ]
    },
    {
      "cell_type": "code",
      "execution_count": null,
      "metadata": {
        "colab": {
          "base_uri": "https://localhost:8080/",
          "height": 399
        },
        "id": "DWTMcNm48ahV",
        "outputId": "9ed6ee49-4567-4cf9-ee25-0032074b69bc"
      },
      "outputs": [
        {
          "data": {
            "text/plain": [
              "<matplotlib.axes._subplots.AxesSubplot at 0x7fe5393f1c70>"
            ]
          },
          "execution_count": 17,
          "metadata": {},
          "output_type": "execute_result"
        },
        {
          "data": {
            "image/png": "[encoded data removed]",
            "text/plain": [
              "<Figure size 936x432 with 3 Axes>"
            ]
          },
          "metadata": {},
          "output_type": "display_data"
        }
      ],
      "source": [
        "import numpy as np\n",
        "import missingno as msno\n",
        "\n",
        "# 훈련 데이터 복사본에서 -1을 np.NaN로 변환\n",
        "train_copy = train.copy().replace(-1,np.NaN)\n",
        "\n",
        "# 결측값 시각화(처음 28개만)\n",
        "msno.bar(df = train_copy.iloc[:,1:29] , figsize = (13,6))"
      ]
    },
    {
      "cell_type": "markdown",
      "metadata": {
        "id": "s4Uvy_459UFd"
      },
      "source": [
        "ps_reg_03, ps_car_03_cat, ps_car_05_cat 에 결측값 많음"
      ]
    },
    {
      "cell_type": "code",
      "execution_count": null,
      "metadata": {
        "colab": {
          "base_uri": "https://localhost:8080/",
          "height": 392
        },
        "id": "8KjLKFfY9dNb",
        "outputId": "4482d744-f21f-44ea-dd61-7648ada29d59"
      },
      "outputs": [
        {
          "data": {
            "text/plain": [
              "<matplotlib.axes._subplots.AxesSubplot at 0x7fe531b4a1f0>"
            ]
          },
          "execution_count": 18,
          "metadata": {},
          "output_type": "execute_result"
        },
        {
          "data": {
            "image/png": "[encoded data removed]",
            "text/plain": [
              "<Figure size 936x432 with 3 Axes>"
            ]
          },
          "metadata": {},
          "output_type": "display_data"
        }
      ],
      "source": [
        "msno.bar(df=train_copy.iloc[:,29:], figsize = (13,6))"
      ]
    },
    {
      "cell_type": "markdown",
      "metadata": {
        "id": "8OK5j6v69mbO"
      },
      "source": [
        "ps_car_14에 결측값 있고 나머지 피처에는 거의 없음"
      ]
    },
    {
      "cell_type": "markdown",
      "metadata": {
        "id": "TxMkKtVJ9ruw"
      },
      "source": [
        "####**결측값 매트릭스 형태로 시각화하기**\n",
        "검은색으로 뾰족하게 튀어나온 부분이 결측값이 몰려있는 행을 의미"
      ]
    },
    {
      "cell_type": "code",
      "execution_count": null,
      "metadata": {
        "colab": {
          "base_uri": "https://localhost:8080/",
          "height": 372
        },
        "id": "vRtI9rgA9ysg",
        "outputId": "b3b7769e-de70-4e90-c4ba-0d927a92f31e"
      },
      "outputs": [
        {
          "data": {
            "text/plain": [
              "<matplotlib.axes._subplots.AxesSubplot at 0x7fe530cba1c0>"
            ]
          },
          "execution_count": 19,
          "metadata": {},
          "output_type": "execute_result"
        },
        {
          "data": {
            "image/png": "[encoded data removed]",
            "text/plain": [
              "<Figure size 936x432 with 2 Axes>"
            ]
          },
          "metadata": {},
          "output_type": "display_data"
        }
      ],
      "source": [
        "msno.matrix(df=train_copy.iloc[:,1:29],figsize=(13,6))"
      ]
    },
    {
      "cell_type": "markdown",
      "metadata": {
        "id": "TOZcdM3pNFKC"
      },
      "source": [
        "####**피처 요약표**\n",
        "- 결측값이 -1이므로 결측값 개수를 구하기 위해 피처별 -1의 개수 구함\n",
        "- for 문 이용해 데이터 종류 추가"
      ]
    },
    {
      "cell_type": "code",
      "execution_count": null,
      "metadata": {
        "id": "EI6JIjEpNKqv"
      },
      "outputs": [],
      "source": [
        "def resumetable(df):\n",
        "    print(f'데이터 세트 형상: {df.shape}')\n",
        "    summary = pd.DataFrame(df.dtypes, columns=['데이터 타입'])\n",
        "    summary['결측값 개수'] = (df == -1).sum().values # 피처별 -1 개수\n",
        "    summary['고윳값 개수'] = df.nunique().values\n",
        "    summary['데이터 종류'] = None\n",
        "    for col in df.columns:\n",
        "        if 'bin' in col or col == 'target':\n",
        "            summary.loc[col, '데이터 종류'] = '이진형'\n",
        "        elif 'cat' in col:\n",
        "            summary.loc[col, '데이터 종류'] = '명목형'\n",
        "        elif df[col].dtype == float:\n",
        "            summary.loc[col, '데이터 종류'] = '연속형'\n",
        "        elif df[col].dtype == int:\n",
        "            summary.loc[col, '데이터 종류'] = '순서형'\n",
        "\n",
        "    return summary"
      ]
    },
    {
      "cell_type": "code",
      "execution_count": null,
      "metadata": {
        "colab": {
          "base_uri": "https://localhost:8080/",
          "height": 1000
        },
        "id": "J2lOP5RSNuuM",
        "outputId": "2760b07f-2699-4f61-e2a4-cf6adc53256a"
      },
      "outputs": [
        {
          "name": "stdout",
          "output_type": "stream",
          "text": [
            "데이터 세트 형상: (595212, 58)\n"
          ]
        },
        {
          "data": {
            "text/html": [
              "\n",
              "  <div id=\"df-7b7bb19b-c624-4620-a2ec-15239bfb6ab9\">\n",
              "    <div class=\"colab-df-container\">\n",
              "      <div>\n",
              "<style scoped>\n",
              "    .dataframe tbody tr th:only-of-type {\n",
              "        vertical-align: middle;\n",
              "    }\n",
              "\n",
              "    .dataframe tbody tr th {\n",
              "        vertical-align: top;\n",
              "    }\n",
              "\n",
              "    .dataframe thead th {\n",
              "        text-align: right;\n",
              "    }\n",
              "</style>\n",
              "<table border=\"1\" class=\"dataframe\">\n",
              "  <thead>\n",
              "    <tr style=\"text-align: right;\">\n",
              "      <th></th>\n",
              "      <th>데이터 타입</th>\n",
              "      <th>결측값 개수</th>\n",
              "      <th>고윳값 개수</th>\n",
              "      <th>데이터 종류</th>\n",
              "    </tr>\n",
              "  </thead>\n",
              "  <tbody>\n",
              "    <tr>\n",
              "      <th>target</th>\n",
              "      <td>int64</td>\n",
              "      <td>0</td>\n",
              "      <td>2</td>\n",
              "      <td>이진형</td>\n",
              "    </tr>\n",
              "    <tr>\n",
              "      <th>ps_ind_01</th>\n",
              "      <td>int64</td>\n",
              "      <td>0</td>\n",
              "      <td>8</td>\n",
              "      <td>순서형</td>\n",
              "    </tr>\n",
              "    <tr>\n",
              "      <th>ps_ind_02_cat</th>\n",
              "      <td>int64</td>\n",
              "      <td>216</td>\n",
              "      <td>5</td>\n",
              "      <td>명목형</td>\n",
              "    </tr>\n",
              "    <tr>\n",
              "      <th>ps_ind_03</th>\n",
              "      <td>int64</td>\n",
              "      <td>0</td>\n",
              "      <td>12</td>\n",
              "      <td>순서형</td>\n",
              "    </tr>\n",
              "    <tr>\n",
              "      <th>ps_ind_04_cat</th>\n",
              "      <td>int64</td>\n",
              "      <td>83</td>\n",
              "      <td>3</td>\n",
              "      <td>명목형</td>\n",
              "    </tr>\n",
              "    <tr>\n",
              "      <th>ps_ind_05_cat</th>\n",
              "      <td>int64</td>\n",
              "      <td>5809</td>\n",
              "      <td>8</td>\n",
              "      <td>명목형</td>\n",
              "    </tr>\n",
              "    <tr>\n",
              "      <th>ps_ind_06_bin</th>\n",
              "      <td>int64</td>\n",
              "      <td>0</td>\n",
              "      <td>2</td>\n",
              "      <td>이진형</td>\n",
              "    </tr>\n",
              "    <tr>\n",
              "      <th>ps_ind_07_bin</th>\n",
              "      <td>int64</td>\n",
              "      <td>0</td>\n",
              "      <td>2</td>\n",
              "      <td>이진형</td>\n",
              "    </tr>\n",
              "    <tr>\n",
              "      <th>ps_ind_08_bin</th>\n",
              "      <td>int64</td>\n",
              "      <td>0</td>\n",
              "      <td>2</td>\n",
              "      <td>이진형</td>\n",
              "    </tr>\n",
              "    <tr>\n",
              "      <th>ps_ind_09_bin</th>\n",
              "      <td>int64</td>\n",
              "      <td>0</td>\n",
              "      <td>2</td>\n",
              "      <td>이진형</td>\n",
              "    </tr>\n",
              "    <tr>\n",
              "      <th>ps_ind_10_bin</th>\n",
              "      <td>int64</td>\n",
              "      <td>0</td>\n",
              "      <td>2</td>\n",
              "      <td>이진형</td>\n",
              "    </tr>\n",
              "    <tr>\n",
              "      <th>ps_ind_11_bin</th>\n",
              "      <td>int64</td>\n",
              "      <td>0</td>\n",
              "      <td>2</td>\n",
              "      <td>이진형</td>\n",
              "    </tr>\n",
              "    <tr>\n",
              "      <th>ps_ind_12_bin</th>\n",
              "      <td>int64</td>\n",
              "      <td>0</td>\n",
              "      <td>2</td>\n",
              "      <td>이진형</td>\n",
              "    </tr>\n",
              "    <tr>\n",
              "      <th>ps_ind_13_bin</th>\n",
              "      <td>int64</td>\n",
              "      <td>0</td>\n",
              "      <td>2</td>\n",
              "      <td>이진형</td>\n",
              "    </tr>\n",
              "    <tr>\n",
              "      <th>ps_ind_14</th>\n",
              "      <td>int64</td>\n",
              "      <td>0</td>\n",
              "      <td>5</td>\n",
              "      <td>순서형</td>\n",
              "    </tr>\n",
              "    <tr>\n",
              "      <th>ps_ind_15</th>\n",
              "      <td>int64</td>\n",
              "      <td>0</td>\n",
              "      <td>14</td>\n",
              "      <td>순서형</td>\n",
              "    </tr>\n",
              "    <tr>\n",
              "      <th>ps_ind_16_bin</th>\n",
              "      <td>int64</td>\n",
              "      <td>0</td>\n",
              "      <td>2</td>\n",
              "      <td>이진형</td>\n",
              "    </tr>\n",
              "    <tr>\n",
              "      <th>ps_ind_17_bin</th>\n",
              "      <td>int64</td>\n",
              "      <td>0</td>\n",
              "      <td>2</td>\n",
              "      <td>이진형</td>\n",
              "    </tr>\n",
              "    <tr>\n",
              "      <th>ps_ind_18_bin</th>\n",
              "      <td>int64</td>\n",
              "      <td>0</td>\n",
              "      <td>2</td>\n",
              "      <td>이진형</td>\n",
              "    </tr>\n",
              "    <tr>\n",
              "      <th>ps_reg_01</th>\n",
              "      <td>float64</td>\n",
              "      <td>0</td>\n",
              "      <td>10</td>\n",
              "      <td>연속형</td>\n",
              "    </tr>\n",
              "    <tr>\n",
              "      <th>ps_reg_02</th>\n",
              "      <td>float64</td>\n",
              "      <td>0</td>\n",
              "      <td>19</td>\n",
              "      <td>연속형</td>\n",
              "    </tr>\n",
              "    <tr>\n",
              "      <th>ps_reg_03</th>\n",
              "      <td>float64</td>\n",
              "      <td>107772</td>\n",
              "      <td>5013</td>\n",
              "      <td>연속형</td>\n",
              "    </tr>\n",
              "    <tr>\n",
              "      <th>ps_car_01_cat</th>\n",
              "      <td>int64</td>\n",
              "      <td>107</td>\n",
              "      <td>13</td>\n",
              "      <td>명목형</td>\n",
              "    </tr>\n",
              "    <tr>\n",
              "      <th>ps_car_02_cat</th>\n",
              "      <td>int64</td>\n",
              "      <td>5</td>\n",
              "      <td>3</td>\n",
              "      <td>명목형</td>\n",
              "    </tr>\n",
              "    <tr>\n",
              "      <th>ps_car_03_cat</th>\n",
              "      <td>int64</td>\n",
              "      <td>411231</td>\n",
              "      <td>3</td>\n",
              "      <td>명목형</td>\n",
              "    </tr>\n",
              "    <tr>\n",
              "      <th>ps_car_04_cat</th>\n",
              "      <td>int64</td>\n",
              "      <td>0</td>\n",
              "      <td>10</td>\n",
              "      <td>명목형</td>\n",
              "    </tr>\n",
              "    <tr>\n",
              "      <th>ps_car_05_cat</th>\n",
              "      <td>int64</td>\n",
              "      <td>266551</td>\n",
              "      <td>3</td>\n",
              "      <td>명목형</td>\n",
              "    </tr>\n",
              "    <tr>\n",
              "      <th>ps_car_06_cat</th>\n",
              "      <td>int64</td>\n",
              "      <td>0</td>\n",
              "      <td>18</td>\n",
              "      <td>명목형</td>\n",
              "    </tr>\n",
              "    <tr>\n",
              "      <th>ps_car_07_cat</th>\n",
              "      <td>int64</td>\n",
              "      <td>11489</td>\n",
              "      <td>3</td>\n",
              "      <td>명목형</td>\n",
              "    </tr>\n",
              "    <tr>\n",
              "      <th>ps_car_08_cat</th>\n",
              "      <td>int64</td>\n",
              "      <td>0</td>\n",
              "      <td>2</td>\n",
              "      <td>명목형</td>\n",
              "    </tr>\n",
              "    <tr>\n",
              "      <th>ps_car_09_cat</th>\n",
              "      <td>int64</td>\n",
              "      <td>569</td>\n",
              "      <td>6</td>\n",
              "      <td>명목형</td>\n",
              "    </tr>\n",
              "    <tr>\n",
              "      <th>ps_car_10_cat</th>\n",
              "      <td>int64</td>\n",
              "      <td>0</td>\n",
              "      <td>3</td>\n",
              "      <td>명목형</td>\n",
              "    </tr>\n",
              "    <tr>\n",
              "      <th>ps_car_11_cat</th>\n",
              "      <td>int64</td>\n",
              "      <td>0</td>\n",
              "      <td>104</td>\n",
              "      <td>명목형</td>\n",
              "    </tr>\n",
              "    <tr>\n",
              "      <th>ps_car_11</th>\n",
              "      <td>int64</td>\n",
              "      <td>5</td>\n",
              "      <td>5</td>\n",
              "      <td>순서형</td>\n",
              "    </tr>\n",
              "    <tr>\n",
              "      <th>ps_car_12</th>\n",
              "      <td>float64</td>\n",
              "      <td>1</td>\n",
              "      <td>184</td>\n",
              "      <td>연속형</td>\n",
              "    </tr>\n",
              "    <tr>\n",
              "      <th>ps_car_13</th>\n",
              "      <td>float64</td>\n",
              "      <td>0</td>\n",
              "      <td>70482</td>\n",
              "      <td>연속형</td>\n",
              "    </tr>\n",
              "    <tr>\n",
              "      <th>ps_car_14</th>\n",
              "      <td>float64</td>\n",
              "      <td>42620</td>\n",
              "      <td>850</td>\n",
              "      <td>연속형</td>\n",
              "    </tr>\n",
              "    <tr>\n",
              "      <th>ps_car_15</th>\n",
              "      <td>float64</td>\n",
              "      <td>0</td>\n",
              "      <td>15</td>\n",
              "      <td>연속형</td>\n",
              "    </tr>\n",
              "    <tr>\n",
              "      <th>ps_calc_01</th>\n",
              "      <td>float64</td>\n",
              "      <td>0</td>\n",
              "      <td>10</td>\n",
              "      <td>연속형</td>\n",
              "    </tr>\n",
              "    <tr>\n",
              "      <th>ps_calc_02</th>\n",
              "      <td>float64</td>\n",
              "      <td>0</td>\n",
              "      <td>10</td>\n",
              "      <td>연속형</td>\n",
              "    </tr>\n",
              "    <tr>\n",
              "      <th>ps_calc_03</th>\n",
              "      <td>float64</td>\n",
              "      <td>0</td>\n",
              "      <td>10</td>\n",
              "      <td>연속형</td>\n",
              "    </tr>\n",
              "    <tr>\n",
              "      <th>ps_calc_04</th>\n",
              "      <td>int64</td>\n",
              "      <td>0</td>\n",
              "      <td>6</td>\n",
              "      <td>순서형</td>\n",
              "    </tr>\n",
              "    <tr>\n",
              "      <th>ps_calc_05</th>\n",
              "      <td>int64</td>\n",
              "      <td>0</td>\n",
              "      <td>7</td>\n",
              "      <td>순서형</td>\n",
              "    </tr>\n",
              "    <tr>\n",
              "      <th>ps_calc_06</th>\n",
              "      <td>int64</td>\n",
              "      <td>0</td>\n",
              "      <td>11</td>\n",
              "      <td>순서형</td>\n",
              "    </tr>\n",
              "    <tr>\n",
              "      <th>ps_calc_07</th>\n",
              "      <td>int64</td>\n",
              "      <td>0</td>\n",
              "      <td>10</td>\n",
              "      <td>순서형</td>\n",
              "    </tr>\n",
              "    <tr>\n",
              "      <th>ps_calc_08</th>\n",
              "      <td>int64</td>\n",
              "      <td>0</td>\n",
              "      <td>11</td>\n",
              "      <td>순서형</td>\n",
              "    </tr>\n",
              "    <tr>\n",
              "      <th>ps_calc_09</th>\n",
              "      <td>int64</td>\n",
              "      <td>0</td>\n",
              "      <td>8</td>\n",
              "      <td>순서형</td>\n",
              "    </tr>\n",
              "    <tr>\n",
              "      <th>ps_calc_10</th>\n",
              "      <td>int64</td>\n",
              "      <td>0</td>\n",
              "      <td>26</td>\n",
              "      <td>순서형</td>\n",
              "    </tr>\n",
              "    <tr>\n",
              "      <th>ps_calc_11</th>\n",
              "      <td>int64</td>\n",
              "      <td>0</td>\n",
              "      <td>20</td>\n",
              "      <td>순서형</td>\n",
              "    </tr>\n",
              "    <tr>\n",
              "      <th>ps_calc_12</th>\n",
              "      <td>int64</td>\n",
              "      <td>0</td>\n",
              "      <td>11</td>\n",
              "      <td>순서형</td>\n",
              "    </tr>\n",
              "    <tr>\n",
              "      <th>ps_calc_13</th>\n",
              "      <td>int64</td>\n",
              "      <td>0</td>\n",
              "      <td>14</td>\n",
              "      <td>순서형</td>\n",
              "    </tr>\n",
              "    <tr>\n",
              "      <th>ps_calc_14</th>\n",
              "      <td>int64</td>\n",
              "      <td>0</td>\n",
              "      <td>24</td>\n",
              "      <td>순서형</td>\n",
              "    </tr>\n",
              "    <tr>\n",
              "      <th>ps_calc_15_bin</th>\n",
              "      <td>int64</td>\n",
              "      <td>0</td>\n",
              "      <td>2</td>\n",
              "      <td>이진형</td>\n",
              "    </tr>\n",
              "    <tr>\n",
              "      <th>ps_calc_16_bin</th>\n",
              "      <td>int64</td>\n",
              "      <td>0</td>\n",
              "      <td>2</td>\n",
              "      <td>이진형</td>\n",
              "    </tr>\n",
              "    <tr>\n",
              "      <th>ps_calc_17_bin</th>\n",
              "      <td>int64</td>\n",
              "      <td>0</td>\n",
              "      <td>2</td>\n",
              "      <td>이진형</td>\n",
              "    </tr>\n",
              "    <tr>\n",
              "      <th>ps_calc_18_bin</th>\n",
              "      <td>int64</td>\n",
              "      <td>0</td>\n",
              "      <td>2</td>\n",
              "      <td>이진형</td>\n",
              "    </tr>\n",
              "    <tr>\n",
              "      <th>ps_calc_19_bin</th>\n",
              "      <td>int64</td>\n",
              "      <td>0</td>\n",
              "      <td>2</td>\n",
              "      <td>이진형</td>\n",
              "    </tr>\n",
              "    <tr>\n",
              "      <th>ps_calc_20_bin</th>\n",
              "      <td>int64</td>\n",
              "      <td>0</td>\n",
              "      <td>2</td>\n",
              "      <td>이진형</td>\n",
              "    </tr>\n",
              "  </tbody>\n",
              "</table>\n",
              "</div>\n",
              "      <button class=\"colab-df-convert\" onclick=\"convertToInteractive('df-7b7bb19b-c624-4620-a2ec-15239bfb6ab9')\"\n",
              "              title=\"Convert this dataframe to an interactive table.\"\n",
              "              style=\"display:none;\">\n",
              "        \n",
              "  <svg xmlns=\"http://www.w3.org/2000/svg\" height=\"24px\"viewBox=\"0 0 24 24\"\n",
              "       width=\"24px\">\n",
              "    <path d=\"M0 0h24v24H0V0z\" fill=\"none\"/>\n",
              "    <path d=\"M18.56 5.44l.94 2.06.94-2.06 2.06-.94-2.06-.94-.94-2.06-.94 2.06-2.06.94zm-11 1L8.5 8.5l.94-2.06 2.06-.94-2.06-.94L8.5 2.5l-.94 2.06-2.06.94zm10 10l.94 2.06.94-2.06 2.06-.94-2.06-.94-.94-2.06-.94 2.06-2.06.94z\"/><path d=\"M17.41 7.96l-1.37-1.37c-.4-.4-.92-.59-1.43-.59-.52 0-1.04.2-1.43.59L10.3 9.45l-7.72 7.72c-.78.78-.78 2.05 0 2.83L4 21.41c.39.39.9.59 1.41.59.51 0 1.02-.2 1.41-.59l7.78-7.78 2.81-2.81c.8-.78.8-2.07 0-2.86zM5.41 20L4 18.59l7.72-7.72 1.47 1.35L5.41 20z\"/>\n",
              "  </svg>\n",
              "      </button>\n",
              "      \n",
              "  <style>\n",
              "    .colab-df-container {\n",
              "      display:flex;\n",
              "      flex-wrap:wrap;\n",
              "      gap: 12px;\n",
              "    }\n",
              "\n",
              "    .colab-df-convert {\n",
              "      background-color: #E8F0FE;\n",
              "      border: none;\n",
              "      border-radius: 50%;\n",
              "      cursor: pointer;\n",
              "      display: none;\n",
              "      fill: #1967D2;\n",
              "      height: 32px;\n",
              "      padding: 0 0 0 0;\n",
              "      width: 32px;\n",
              "    }\n",
              "\n",
              "    .colab-df-convert:hover {\n",
              "      background-color: #E2EBFA;\n",
              "      box-shadow: 0px 1px 2px rgba(60, 64, 67, 0.3), 0px 1px 3px 1px rgba(60, 64, 67, 0.15);\n",
              "      fill: #174EA6;\n",
              "    }\n",
              "\n",
              "    [theme=dark] .colab-df-convert {\n",
              "      background-color: #3B4455;\n",
              "      fill: #D2E3FC;\n",
              "    }\n",
              "\n",
              "    [theme=dark] .colab-df-convert:hover {\n",
              "      background-color: #434B5C;\n",
              "      box-shadow: 0px 1px 3px 1px rgba(0, 0, 0, 0.15);\n",
              "      filter: drop-shadow(0px 1px 2px rgba(0, 0, 0, 0.3));\n",
              "      fill: #FFFFFF;\n",
              "    }\n",
              "  </style>\n",
              "\n",
              "      <script>\n",
              "        const buttonEl =\n",
              "          document.querySelector('#df-7b7bb19b-c624-4620-a2ec-15239bfb6ab9 button.colab-df-convert');\n",
              "        buttonEl.style.display =\n",
              "          google.colab.kernel.accessAllowed ? 'block' : 'none';\n",
              "\n",
              "        async function convertToInteractive(key) {\n",
              "          const element = document.querySelector('#df-7b7bb19b-c624-4620-a2ec-15239bfb6ab9');\n",
              "          const dataTable =\n",
              "            await google.colab.kernel.invokeFunction('convertToInteractive',\n",
              "                                                     [key], {});\n",
              "          if (!dataTable) return;\n",
              "\n",
              "          const docLinkHtml = 'Like what you see? Visit the ' +\n",
              "            '<a target=\"_blank\" href=https://colab.research.google.com/notebooks/data_table.ipynb>data table notebook</a>'\n",
              "            + ' to learn more about interactive tables.';\n",
              "          element.innerHTML = '';\n",
              "          dataTable['output_type'] = 'display_data';\n",
              "          await google.colab.output.renderOutput(dataTable, element);\n",
              "          const docLink = document.createElement('div');\n",
              "          docLink.innerHTML = docLinkHtml;\n",
              "          element.appendChild(docLink);\n",
              "        }\n",
              "      </script>\n",
              "    </div>\n",
              "  </div>\n",
              "  "
            ],
            "text/plain": [
              "                 데이터 타입  결측값 개수  고윳값 개수 데이터 종류\n",
              "target            int64       0       2    이진형\n",
              "ps_ind_01         int64       0       8    순서형\n",
              "ps_ind_02_cat     int64     216       5    명목형\n",
              "ps_ind_03         int64       0      12    순서형\n",
              "ps_ind_04_cat     int64      83       3    명목형\n",
              "ps_ind_05_cat     int64    5809       8    명목형\n",
              "ps_ind_06_bin     int64       0       2    이진형\n",
              "ps_ind_07_bin     int64       0       2    이진형\n",
              "ps_ind_08_bin     int64       0       2    이진형\n",
              "ps_ind_09_bin     int64       0       2    이진형\n",
              "ps_ind_10_bin     int64       0       2    이진형\n",
              "ps_ind_11_bin     int64       0       2    이진형\n",
              "ps_ind_12_bin     int64       0       2    이진형\n",
              "ps_ind_13_bin     int64       0       2    이진형\n",
              "ps_ind_14         int64       0       5    순서형\n",
              "ps_ind_15         int64       0      14    순서형\n",
              "ps_ind_16_bin     int64       0       2    이진형\n",
              "ps_ind_17_bin     int64       0       2    이진형\n",
              "ps_ind_18_bin     int64       0       2    이진형\n",
              "ps_reg_01       float64       0      10    연속형\n",
              "ps_reg_02       float64       0      19    연속형\n",
              "ps_reg_03       float64  107772    5013    연속형\n",
              "ps_car_01_cat     int64     107      13    명목형\n",
              "ps_car_02_cat     int64       5       3    명목형\n",
              "ps_car_03_cat     int64  411231       3    명목형\n",
              "ps_car_04_cat     int64       0      10    명목형\n",
              "ps_car_05_cat     int64  266551       3    명목형\n",
              "ps_car_06_cat     int64       0      18    명목형\n",
              "ps_car_07_cat     int64   11489       3    명목형\n",
              "ps_car_08_cat     int64       0       2    명목형\n",
              "ps_car_09_cat     int64     569       6    명목형\n",
              "ps_car_10_cat     int64       0       3    명목형\n",
              "ps_car_11_cat     int64       0     104    명목형\n",
              "ps_car_11         int64       5       5    순서형\n",
              "ps_car_12       float64       1     184    연속형\n",
              "ps_car_13       float64       0   70482    연속형\n",
              "ps_car_14       float64   42620     850    연속형\n",
              "ps_car_15       float64       0      15    연속형\n",
              "ps_calc_01      float64       0      10    연속형\n",
              "ps_calc_02      float64       0      10    연속형\n",
              "ps_calc_03      float64       0      10    연속형\n",
              "ps_calc_04        int64       0       6    순서형\n",
              "ps_calc_05        int64       0       7    순서형\n",
              "ps_calc_06        int64       0      11    순서형\n",
              "ps_calc_07        int64       0      10    순서형\n",
              "ps_calc_08        int64       0      11    순서형\n",
              "ps_calc_09        int64       0       8    순서형\n",
              "ps_calc_10        int64       0      26    순서형\n",
              "ps_calc_11        int64       0      20    순서형\n",
              "ps_calc_12        int64       0      11    순서형\n",
              "ps_calc_13        int64       0      14    순서형\n",
              "ps_calc_14        int64       0      24    순서형\n",
              "ps_calc_15_bin    int64       0       2    이진형\n",
              "ps_calc_16_bin    int64       0       2    이진형\n",
              "ps_calc_17_bin    int64       0       2    이진형\n",
              "ps_calc_18_bin    int64       0       2    이진형\n",
              "ps_calc_19_bin    int64       0       2    이진형\n",
              "ps_calc_20_bin    int64       0       2    이진형"
            ]
          },
          "execution_count": 21,
          "metadata": {},
          "output_type": "execute_result"
        }
      ],
      "source": [
        "summary = resumetable(train)\n",
        "summary"
      ]
    },
    {
      "cell_type": "code",
      "execution_count": null,
      "metadata": {
        "colab": {
          "base_uri": "https://localhost:8080/"
        },
        "id": "psqIZwMcN29k",
        "outputId": "5079c783-3e40-4898-80ac-dc5ae6ca9f1d"
      },
      "outputs": [
        {
          "data": {
            "text/plain": [
              "Index(['ps_ind_02_cat', 'ps_ind_04_cat', 'ps_ind_05_cat', 'ps_car_01_cat',\n",
              "       'ps_car_02_cat', 'ps_car_03_cat', 'ps_car_04_cat', 'ps_car_05_cat',\n",
              "       'ps_car_06_cat', 'ps_car_07_cat', 'ps_car_08_cat', 'ps_car_09_cat',\n",
              "       'ps_car_10_cat', 'ps_car_11_cat'],\n",
              "      dtype='object')"
            ]
          },
          "execution_count": 22,
          "metadata": {},
          "output_type": "execute_result"
        }
      ],
      "source": [
        "summary[summary['데이터 종류'] == '명목형'].index"
      ]
    },
    {
      "cell_type": "code",
      "execution_count": null,
      "metadata": {
        "colab": {
          "base_uri": "https://localhost:8080/"
        },
        "id": "NT440s1hN7Lu",
        "outputId": "e216e7a2-7034-46f7-e16d-6644b0187cd2"
      },
      "outputs": [
        {
          "data": {
            "text/plain": [
              "Index(['ps_reg_01', 'ps_reg_02', 'ps_reg_03', 'ps_car_12', 'ps_car_13',\n",
              "       'ps_car_14', 'ps_car_15', 'ps_calc_01', 'ps_calc_02', 'ps_calc_03'],\n",
              "      dtype='object')"
            ]
          },
          "execution_count": 23,
          "metadata": {},
          "output_type": "execute_result"
        }
      ],
      "source": [
        "summary[summary['데이터 타입'] == 'float64'].index"
      ]
    },
    {
      "cell_type": "markdown",
      "metadata": {
        "id": "3k4301ULN9XZ"
      },
      "source": [
        "###**8.2.2 데이터 시각화**\n",
        "모델링에 필요한 피처 선정"
      ]
    },
    {
      "cell_type": "code",
      "execution_count": null,
      "metadata": {
        "id": "iD3Trh1KOAmJ"
      },
      "outputs": [],
      "source": [
        "import seaborn as sns\n",
        "import matplotlib as mpl\n",
        "import matplotlib.pyplot as plt\n",
        "%matplotlib inline"
      ]
    },
    {
      "cell_type": "markdown",
      "metadata": {
        "id": "P8Wi7xa3OIhu"
      },
      "source": [
        "####**타깃값 분포**\n",
        "\n",
        "타깃값이 불균형함 : 비율이 작은 타깃값 1을 잘 예측하는 것이 중요\n",
        "- 고윳값마다 타깃값 비율이 다른 피처여야 모델링에 도움이 됨\n",
        "- 통계적 유효성이 높아야(신뢰구간이 좁아야) 모델링에 도움이 됨\n"
      ]
    },
    {
      "cell_type": "code",
      "execution_count": null,
      "metadata": {
        "colab": {
          "base_uri": "https://localhost:8080/",
          "height": 418
        },
        "id": "69yVfmjxOKn0",
        "outputId": "65f836be-805f-46ad-89fd-e73a40e20c12"
      },
      "outputs": [
        {
          "data": {
            "image/png": "[encoded data removed]",
            "text/plain": [
              "<Figure size 504x432 with 1 Axes>"
            ]
          },
          "metadata": {},
          "output_type": "display_data"
        }
      ],
      "source": [
        "def write_percent(ax, total_size):\n",
        "    '''도형 객체를 순회하며 막대 그래프 상단에 타깃값 비율 표시'''\n",
        "    for patch in ax.patches:\n",
        "        height = patch.get_height()     # 도형 높이(데이터 개수)\n",
        "        width = patch.get_width()       # 도형 너비\n",
        "        left_coord = patch.get_x()      # 도형 왼쪽 테두리의 x축 위치\n",
        "        percent = height/total_size*100 # 타깃값 비율\n",
        "        \n",
        "        # (x, y) 좌표에 텍스트 입력\n",
        "        ax.text(left_coord + width/2.0,     # x축 위치\n",
        "                height + total_size*0.001,  # y축 위치\n",
        "                '{:1.1f}%'.format(percent), # 입력 텍스트\n",
        "                ha='center')                # 가운데 정렬\n",
        "    \n",
        "mpl.rc('font', size=15)\n",
        "plt.figure(figsize=(7, 6))\n",
        "\n",
        "ax = sns.countplot(x='target', data=train)\n",
        "write_percent(ax, len(train)) # 비율 표시\n",
        "ax.set_title('Target Distribution');"
      ]
    },
    {
      "cell_type": "markdown",
      "metadata": {
        "id": "RzWFhkisPdFc"
      },
      "source": [
        "####**이진 피처**"
      ]
    },
    {
      "cell_type": "code",
      "execution_count": null,
      "metadata": {
        "id": "4UaBeQrEO5NF"
      },
      "outputs": [],
      "source": [
        "import matplotlib.gridspec as gridspec\n",
        "\n",
        "def plot_target_ratio_by_features(df, features, num_rows, num_cols, \n",
        "                                  size=(12, 18)):\n",
        "    mpl.rc('font', size=9) \n",
        "    plt.figure(figsize=size)                     # 전체 Figure 크기 설정\n",
        "    grid = gridspec.GridSpec(num_rows, num_cols) # 서브플롯 배치\n",
        "    plt.subplots_adjust(wspace=0.3, hspace=0.3)  # 서브플롯 좌우/상하 여백 설정\n",
        "\n",
        "    for idx, feature in enumerate(features):\n",
        "        ax = plt.subplot(grid[idx])\n",
        "        # ax축에 고윳값별 타깃값 1 비율을 막대 그래프로 그리기\n",
        "        sns.barplot(x=feature, y='target', data=df, palette='Set2', ax=ax)"
      ]
    },
    {
      "cell_type": "code",
      "execution_count": null,
      "metadata": {
        "colab": {
          "base_uri": "https://localhost:8080/",
          "height": 905
        },
        "id": "uQnv6yA7PkL5",
        "outputId": "b8201401-543d-400b-d471-9a0d2af4235b"
      },
      "outputs": [
        {
          "data": {
            "image/png": "[encoded data removed]",
            "text/plain": [
              "<Figure size 864x1296 with 18 Axes>"
            ]
          },
          "metadata": {},
          "output_type": "display_data"
        }
      ],
      "source": [
        "bin_features = summary[summary['데이터 종류'] == '이진형'].index # 이진 피처\n",
        "# 이진 피처 고윳값별 타깃값 1 비율을 막대 그래프로 그리기\n",
        "plot_target_ratio_by_features(train, bin_features, 6, 3) # 6행 3열 배치"
      ]
    },
    {
      "cell_type": "markdown",
      "metadata": {
        "id": "BO54WUsKQ9mU"
      },
      "source": [
        "\n",
        "**모델링 시 제거할 피처**\n",
        "- `ps_ind_10_bin~ps_ind_13_bin` : 신뢰구간이 넓어 통계적 유효성이 떨어짐\n",
        "- `ps_calc_15_bin~ps_calc_20_bin` : 고윳값별 타깃값 비율 차이가 없어 타깃값 예측력이 없음\n",
        "  - calc 분류의 이진 피처는 모두 타깃값 비율에 차이가 없음"
      ]
    },
    {
      "cell_type": "markdown",
      "metadata": {
        "id": "UL2HL1blRr9z"
      },
      "source": [
        "####**명목형 피처**\n"
      ]
    },
    {
      "cell_type": "code",
      "execution_count": null,
      "metadata": {
        "colab": {
          "base_uri": "https://localhost:8080/",
          "height": 895
        },
        "id": "LzrDdvMxR4UA",
        "outputId": "c24e676f-3f96-4602-e969-9e25f19ca66d"
      },
      "outputs": [
        {
          "data": {
            "image/png": "[encoded data removed]",
            "text/plain": [
              "<Figure size 864x1296 with 14 Axes>"
            ]
          },
          "metadata": {},
          "output_type": "display_data"
        }
      ],
      "source": [
        "nom_features = summary[summary['데이터 종류'] == '명목형'].index # 명목형 피처\n",
        "\n",
        "plot_target_ratio_by_features(train, nom_features, 7, 2) # 7행 2열"
      ]
    },
    {
      "cell_type": "markdown",
      "metadata": {
        "id": "ibsmB5_ySRT5"
      },
      "source": [
        "\n",
        "- `ps_ind_02_cat` : 결측값 -1이 다른 고윳값들보다 타깃값 1 비율이 크다\n",
        "  - 결측값 자체가 타깃값에 대한 예측력이 있으므로 처리하지 않음\n",
        "\n",
        "- `ps_car_02_cat` : -1일 때 타깃값 1 비율은 0%\n",
        "  - 피처 값이 -1이면 타깃값이 0이라고 판단해도 됨, 결측값이 타깃값을 예측하는 데 도움을 줌\n",
        "\n",
        "- `ps_ind_02_cat, ps_ind_04_cat, ps_car_01_cat` : -1을 제외하고 나머지 고윳값은 타깃값 1 비율이 비슷하며 -1일 때의 신뢰구간이 상대적으로 넓다.\n",
        "  - -1의 신뢰하한과 다른 고윳값들의 신뢰상한 간 차이가 큼\n",
        "  - 고윳값 간 타깃값 1 비율에 차이가 있으므로 모델링에 필요한 피처\n",
        "\n",
        "- `ps_car_10_cat` : 고윳값별 타깃값 1의 평균 비율이 비슷하고 고윳값 2의 신뢰구간이 유독 넓다.-- 애매한 경우\n",
        "  - 제거하지 않는 것이 성능이 더 좋음(비교해보아야 함)\n",
        "\n",
        "\n",
        "질문 - ps_car_10_cat 은 애매하다고 판단, 순서형 피처에서 ps_ind_14는 제거한다. -> 무슨 기준?* "
      ]
    },
    {
      "cell_type": "markdown",
      "metadata": {
        "id": "jq5kDpfsR5Gt"
      },
      "source": [
        "####**순서형 피처**"
      ]
    },
    {
      "cell_type": "code",
      "execution_count": null,
      "metadata": {
        "colab": {
          "base_uri": "https://localhost:8080/",
          "height": 1000
        },
        "id": "AZRhAQgeRxxS",
        "outputId": "fd342285-8630-470b-93b6-62a760ad1add"
      },
      "outputs": [
        {
          "data": {
            "image/png": "[encoded data removed]",
            "text/plain": [
              "<Figure size 864x1440 with 16 Axes>"
            ]
          },
          "metadata": {},
          "output_type": "display_data"
        }
      ],
      "source": [
        "ord_features = summary[summary['데이터 종류'] == '순서형'].index # 순서형 피처\n",
        "\n",
        "plot_target_ratio_by_features(train, ord_features, 8, 2, (12, 20)) # 8행 2열"
      ]
    },
    {
      "cell_type": "markdown",
      "metadata": {
        "id": "tz3JdJmpUAz_"
      },
      "source": [
        "\n",
        "**모델링 시 제거할 피처**\n",
        "- `ps_ind_14` : 고윳값 0, 1, 2, 3의 타깃값 비율은 큰 차이가 없고 고윳값 4의 신뢰구간이 넓다. \n",
        "  - 타깃값 비율의 신뢰구간이 넓어 통계적 유효성이 떨어짐\n",
        "- `ps_calc_04~ps_calc_14 `\n",
        "  - 고윳값별 타깃값 비율 차이가 없음. 타깃값 비율이 다르더라도 신뢰구간이 넓어 통계적 유효성이 떨어짐."
      ]
    },
    {
      "cell_type": "markdown",
      "metadata": {
        "id": "d_dUXP67R89_"
      },
      "source": [
        "####**연속형 피처**\n",
        "고윳값별 타깃값 1 비율을 구하기가 어려우므로, 몇 개의 구간으로 나누어 구간별 타깃값 1 비율을 알아봄\n",
        "\n",
        "- `cut()` : 연속형 데이터를 범주형 데이터로 바꾸는 효과"
      ]
    },
    {
      "cell_type": "code",
      "execution_count": null,
      "metadata": {
        "colab": {
          "base_uri": "https://localhost:8080/"
        },
        "id": "mXX29TQbVCVb",
        "outputId": "e1a03ba0-5862-411f-ede4-82047913ad9f"
      },
      "outputs": [
        {
          "data": {
            "text/plain": [
              "[(0.997, 2.0], (0.997, 2.0], (2.0, 3.0], (2.0, 3.0], (3.0, 4.0], (3.0, 4.0]]\n",
              "Categories (3, interval[float64, right]): [(0.997, 2.0] < (2.0, 3.0] < (3.0, 4.0]]"
            ]
          },
          "execution_count": 31,
          "metadata": {},
          "output_type": "execute_result"
        }
      ],
      "source": [
        "pd.cut([1.0,1.5,2.1,2.7,3.5,4.0],3)"
      ]
    },
    {
      "cell_type": "code",
      "execution_count": null,
      "metadata": {
        "colab": {
          "base_uri": "https://localhost:8080/",
          "height": 820
        },
        "id": "6CYzWnL-U2kH",
        "outputId": "5ac0a76c-9882-42fd-c87a-36244fe9642b"
      },
      "outputs": [
        {
          "data": {
            "image/png": "[encoded data removed]",
            "text/plain": [
              "<Figure size 864x1152 with 10 Axes>"
            ]
          },
          "metadata": {},
          "output_type": "display_data"
        }
      ],
      "source": [
        "cont_features = summary[summary['데이터 종류'] == '연속형'].index # 연속형 피처\n",
        "\n",
        "plt.figure(figsize=(12, 16))                # Figure 크기 설정\n",
        "grid = gridspec.GridSpec(5, 2)              # GridSpec 객체 생성\n",
        "plt.subplots_adjust(wspace=0.2, hspace=0.4) # 서브플롯 간 여백 설정\n",
        "\n",
        "for idx, cont_feature in enumerate(cont_features):\n",
        "    # 값을 5개 구간으로 나누기\n",
        "    train[cont_feature] = pd.cut(train[cont_feature], 5)\n",
        "\n",
        "    ax = plt.subplot(grid[idx])                # 분포도를 그릴 서브플롯 설정\n",
        "    sns.barplot(x=cont_feature, y='target', data=train, palette='Set2', ax=ax)\n",
        "    ax.tick_params(axis='x', labelrotation=10) # x축 라벨 회전"
      ]
    },
    {
      "cell_type": "markdown",
      "metadata": {
        "id": "aekVOE9YVQzE"
      },
      "source": [
        "\n",
        "**모델링 시 제거할 피처**\n",
        "- `ps_calc_01~ps_calc_03` : 구간별 타깃값 비율 차이가 없음\n",
        "\n",
        "- calc 분류의 피처는 데이터 종류에 상관없이 모두 제거해야 함"
      ]
    },
    {
      "cell_type": "markdown",
      "metadata": {
        "id": "t2rmY7LPVml4"
      },
      "source": [
        "####**연속형 피처2 : 상관관계**\n",
        "- 일반적으로 강한 상관관계를 보이는 두 피처가 있으면 둘 중 하나를 제거하는 것이 좋음\n",
        "- 상관관계가 강하면 타깃값 예측력도 비슷함\n",
        "\n",
        "**상관관계가 얼마나 강한 피처를 제거해야 하는가?**\n",
        "\n",
        "|피어슨 상관계수|상관관계|\n",
        "|---|---|\n",
        "|0.00~0.19|아주약함|\n",
        "|0.20~0.39|약함|\n",
        "|0.40~0.59|보통|\n",
        "|0.60~0.79|강함|\n",
        "|0.80~1.0|아주 강함|\n",
        "\n",
        "0.8 이상의 아주 강한 상관관계를 보이는 피처가 있다면 제거를 고려\n",
        "\n",
        "\n",
        "\n",
        "\n"
      ]
    },
    {
      "cell_type": "code",
      "execution_count": null,
      "metadata": {
        "id": "U91Wp3suW6c3"
      },
      "outputs": [],
      "source": [
        "train_copy = train_copy.dropna() # np.NaN 값 삭제"
      ]
    },
    {
      "cell_type": "code",
      "execution_count": null,
      "metadata": {
        "colab": {
          "base_uri": "https://localhost:8080/",
          "height": 525
        },
        "id": "LOW-x8j4W7jD",
        "outputId": "97d4b912-6193-4710-eef3-de6cb155a6ff"
      },
      "outputs": [
        {
          "data": {
            "image/png": "[encoded data removed]",
            "text/plain": [
              "<Figure size 720x576 with 2 Axes>"
            ]
          },
          "metadata": {},
          "output_type": "display_data"
        }
      ],
      "source": [
        "plt.figure(figsize=(10, 8))\n",
        "cont_corr = train_copy[cont_features].corr()     # 연속형 피처 간 상관관계 \n",
        "sns.heatmap(cont_corr, annot=True, cmap='OrRd'); # 히트맵 그리기"
      ]
    },
    {
      "cell_type": "markdown",
      "metadata": {
        "id": "Q7kSzqYnXAlF"
      },
      "source": [
        "\n",
        "- 가장 강한 상관관계 : `ps_car_12, ps_car_14` 0.77\n",
        "  - ps_car_14 제거하니 성능이 더 좋아짐\n",
        "- 두번째로 강한 상관관계 : `ps_reg_02, ps_reg_03` 0.76\n",
        "  - 둘 중 하나를 제거하니 성능이 떨어짐, 그대로 남겨둠"
      ]
    },
    {
      "cell_type": "markdown",
      "metadata": {
        "id": "NdDYs6kJXl9R"
      },
      "source": [
        "##**8.3 베이스라인 모델**\n",
        "\n",
        "LightGBM : 마이크로소프트가 개발한 모델, 빠르면서 성능이 좋음"
      ]
    },
    {
      "cell_type": "code",
      "execution_count": null,
      "metadata": {
        "id": "41fCTKSAXx2D"
      },
      "outputs": [],
      "source": [
        "import pandas as pd\n",
        "\n",
        "#데이터 경로\n",
        "data_path = '/content/drive/MyDrive/ESAA/study/porto-seguro-safe-driver-prediction/'\n",
        "\n",
        "train = pd.read_csv(data_path +'train.csv', index_col = 'id')\n",
        "test = pd.read_csv(data_path +'test.csv', index_col = 'id')\n",
        "submission = pd.read_csv(data_path +'sample_submission.csv', index_col = 'id')"
      ]
    },
    {
      "cell_type": "markdown",
      "metadata": {
        "id": "WLk5JXi5YgdN"
      },
      "source": [
        "###**8.3.1 피처 엔지니어링**"
      ]
    },
    {
      "cell_type": "markdown",
      "metadata": {
        "id": "0EGE2LJjYjke"
      },
      "source": [
        "####**데이터 합치기**"
      ]
    },
    {
      "cell_type": "code",
      "execution_count": null,
      "metadata": {
        "id": "2D5YWD0sYlXy"
      },
      "outputs": [],
      "source": [
        "all_data = pd.concat([train, test], ignore_index=True)\n",
        "all_data = all_data.drop('target', axis=1) # 타깃값 제거"
      ]
    },
    {
      "cell_type": "code",
      "execution_count": null,
      "metadata": {
        "colab": {
          "base_uri": "https://localhost:8080/"
        },
        "id": "_mqq-lUmYnd9",
        "outputId": "8222584c-6300-4c72-ee5d-67a1afda42d0"
      },
      "outputs": [
        {
          "data": {
            "text/plain": [
              "Index(['ps_ind_01', 'ps_ind_02_cat', 'ps_ind_03', 'ps_ind_04_cat',\n",
              "       'ps_ind_05_cat', 'ps_ind_06_bin', 'ps_ind_07_bin', 'ps_ind_08_bin',\n",
              "       'ps_ind_09_bin', 'ps_ind_10_bin', 'ps_ind_11_bin', 'ps_ind_12_bin',\n",
              "       'ps_ind_13_bin', 'ps_ind_14', 'ps_ind_15', 'ps_ind_16_bin',\n",
              "       'ps_ind_17_bin', 'ps_ind_18_bin', 'ps_reg_01', 'ps_reg_02', 'ps_reg_03',\n",
              "       'ps_car_01_cat', 'ps_car_02_cat', 'ps_car_03_cat', 'ps_car_04_cat',\n",
              "       'ps_car_05_cat', 'ps_car_06_cat', 'ps_car_07_cat', 'ps_car_08_cat',\n",
              "       'ps_car_09_cat', 'ps_car_10_cat', 'ps_car_11_cat', 'ps_car_11',\n",
              "       'ps_car_12', 'ps_car_13', 'ps_car_14', 'ps_car_15', 'ps_calc_01',\n",
              "       'ps_calc_02', 'ps_calc_03', 'ps_calc_04', 'ps_calc_05', 'ps_calc_06',\n",
              "       'ps_calc_07', 'ps_calc_08', 'ps_calc_09', 'ps_calc_10', 'ps_calc_11',\n",
              "       'ps_calc_12', 'ps_calc_13', 'ps_calc_14', 'ps_calc_15_bin',\n",
              "       'ps_calc_16_bin', 'ps_calc_17_bin', 'ps_calc_18_bin', 'ps_calc_19_bin',\n",
              "       'ps_calc_20_bin'],\n",
              "      dtype='object')"
            ]
          },
          "execution_count": 36,
          "metadata": {},
          "output_type": "execute_result"
        }
      ],
      "source": [
        "all_features = all_data.columns # 전체 피처\n",
        "all_features"
      ]
    },
    {
      "cell_type": "markdown",
      "metadata": {
        "id": "kdLY0oBvYwSW"
      },
      "source": [
        "####**명목형 피처 원-핫 인코딩**\n"
      ]
    },
    {
      "cell_type": "code",
      "execution_count": null,
      "metadata": {
        "colab": {
          "base_uri": "https://localhost:8080/"
        },
        "id": "917rMnIqY2Dt",
        "outputId": "8248154d-2c40-4c85-881a-56ed58481e16"
      },
      "outputs": [
        {
          "data": {
            "text/plain": [
              "<1488028x184 sparse matrix of type '<class 'numpy.float64'>'\n",
              "\twith 20832392 stored elements in Compressed Sparse Row format>"
            ]
          },
          "execution_count": 37,
          "metadata": {},
          "output_type": "execute_result"
        }
      ],
      "source": [
        "from sklearn.preprocessing import OneHotEncoder\n",
        "\n",
        "# 명목형 피처 추출\n",
        "cat_features = [feature for feature in all_features if 'cat' in feature] \n",
        "\n",
        "onehot_encoder = OneHotEncoder() # 원-핫 인코더 객체 생성\n",
        "# 인코딩\n",
        "encoded_cat_matrix = onehot_encoder.fit_transform(all_data[cat_features]) \n",
        "\n",
        "encoded_cat_matrix"
      ]
    },
    {
      "cell_type": "markdown",
      "metadata": {
        "id": "kPASA44VZwU9"
      },
      "source": [
        "####**필요 없는 피처 제거**\n"
      ]
    },
    {
      "cell_type": "code",
      "execution_count": null,
      "metadata": {
        "id": "0VY0_lplZza8"
      },
      "outputs": [],
      "source": [
        "# 추가로 제거할 피처\n",
        "drop_features = ['ps_ind_14', 'ps_ind_10_bin', 'ps_ind_11_bin', \n",
        "                 'ps_ind_12_bin', 'ps_ind_13_bin', 'ps_car_14']\n",
        "\n",
        "# '1) 명목형 피처, 2) calc 분류의 피처, 3) 추가 제거할 피처'를 제외한 피처\n",
        "remaining_features = [feature for feature in all_features \n",
        "                      if ('cat' not in feature and \n",
        "                          'calc' not in feature and \n",
        "                          feature not in drop_features)]\n"
      ]
    },
    {
      "cell_type": "code",
      "execution_count": null,
      "metadata": {
        "id": "4ZhW0EF8Z1vR"
      },
      "outputs": [],
      "source": [
        "from scipy import sparse\n",
        "#hstack : 행렬을 수평 방향으로 합침\n",
        "all_data_sprs = sparse.hstack([sparse.csr_matrix(all_data[remaining_features]),\n",
        "                               encoded_cat_matrix],\n",
        "                              format='csr')"
      ]
    },
    {
      "cell_type": "markdown",
      "metadata": {
        "id": "PacO5gXlaBaz"
      },
      "source": [
        "####**데이터 나누기**"
      ]
    },
    {
      "cell_type": "code",
      "execution_count": null,
      "metadata": {
        "id": "A55hb22VaDf4"
      },
      "outputs": [],
      "source": [
        "num_train = len(train) # 훈련 데이터 개수\n",
        "\n",
        "# 훈련 데이터와 테스트 데이터 나누기\n",
        "X = all_data_sprs[:num_train]\n",
        "X_test = all_data_sprs[num_train:]\n",
        "\n",
        "y = train['target'].values"
      ]
    },
    {
      "cell_type": "markdown",
      "metadata": {
        "id": "31Wovh51aHU1"
      },
      "source": [
        "###**8.3.2 평가지표 계산 함수 작성**\n",
        "정규화 지니계수 = 예측 값에 대한 지니계수 / 예측이 완벽할 때의 지니계수\n"
      ]
    },
    {
      "cell_type": "code",
      "execution_count": null,
      "metadata": {
        "id": "lwkiTpxFaZTW"
      },
      "outputs": [],
      "source": [
        "import numpy as np\n",
        "\n",
        "def eval_gini(y_true, y_pred):\n",
        "    # 실제값과 예측값의 크기가 같은지 확인 (값이 다르면 오류 발생)\n",
        "    assert y_true.shape == y_pred.shape\n",
        "\n",
        "    n_samples = y_true.shape[0]                      # 데이터 개수\n",
        "    L_mid = np.linspace(1 / n_samples, 1, n_samples) # 대각선 값\n",
        "\n",
        "    # 1) 예측값에 대한 지니계수\n",
        "    pred_order = y_true[y_pred.argsort()] # y_pred 크기순으로 y_true 값 정렬\n",
        "    L_pred = np.cumsum(pred_order) / np.sum(pred_order) # 로렌츠 곡선\n",
        "    G_pred = np.sum(L_mid - L_pred)       # 예측 값에 대한 지니계수\n",
        "\n",
        "    # 2) 예측이 완벽할 때 지니계수\n",
        "    true_order = y_true[y_true.argsort()] # y_true 크기순으로 y_true 값 정렬\n",
        "    L_true = np.cumsum(true_order) / np.sum(true_order) # 로렌츠 곡선\n",
        "    G_true = np.sum(L_mid - L_true)       # 예측이 완벽할 때 지니계수\n",
        "\n",
        "    # 정규화된 지니계수\n",
        "    return G_pred / G_true"
      ]
    },
    {
      "cell_type": "code",
      "execution_count": null,
      "metadata": {
        "id": "ZlcdhBG7afs6"
      },
      "outputs": [],
      "source": [
        "def gini(preds, dtrain):\n",
        "    labels = dtrain.get_label()\n",
        "    return 'gini', eval_gini(labels, preds), True # 반환값"
      ]
    },
    {
      "cell_type": "markdown",
      "metadata": {
        "id": "kzCI_sDKat-d"
      },
      "source": [
        "정규화된 지니계수는 값이 클수록 모델 성능이 좋다\n",
        "- 마지막 반환값 : 평가 점수가 높을수록 좋은지 여부"
      ]
    },
    {
      "cell_type": "markdown",
      "metadata": {
        "id": "sN60FXnUa6by"
      },
      "source": [
        "###**8.3.3 모델 훈련 및 성능 검증**\n",
        "\n"
      ]
    },
    {
      "cell_type": "markdown",
      "metadata": {
        "id": "XgaTQZtSbLnl"
      },
      "source": [
        "####**OOF 예측 방식**\n",
        "K 폴드 교차 검증을 수행하면서 각 폴드마다 테스트 데이터로 예측하는 방식\n",
        "\n",
        "K 폴드 교차 검증을 하면서 폴드마다\n",
        "\n",
        "1) 훈련 데이터로 모델을 훈련하고\n",
        "2) 검증 데이터로 모델 성능을 측정하며\n",
        "3) 테스트 데이터로 최종 타깃 확률도 예측\n",
        "\n",
        "> **예측 절차**\n",
        "1. 전체 훈련 데이터를 K 개 그룹으로 나눈다.\n",
        "2. K개 그룹 중 한 그룹은 검증 데이터, 나머지 K-1개 그룹은 훈련 데이터로 지정한다.\n",
        "3. 훈련 데이터로 모델을 훈련한다.\n",
        "4. 훈련된 모델을 이용해 검증 데이터로 타깃 확률을 예측하고, 전체 테스트 데이터로도 타깃 확률을 예측한다.\n",
        "5. 검증 데이터로 구한 예측 확률과 테스트 데이터로 구한 예측 확률을 기록한다.\n",
        "6. 검증 데이터를 다른 그룹으로 바꿔가며 2~5번 절차를 총 K번 반복한다.\n",
        "7. K개 그룹의 검증 데이터로 예측한 확률을 훈련 데이터 실제 타깃값과 비교해 성능 평가점수를 계산한다. 이 점수로 모델 성능을 가늠해볼 수 있다.\n",
        "8. ***테스트 데이터로 구한 K개 예측 확률의 평균***을 구한다. 이 값이 최종 예측 확률이며, 제출해야 하는 값이다.\n",
        "\n",
        "***검증 데이터를 활용한 예측 확률과 훈련 데이터 실제 타깃값을 이용해 성능 평가 점수***를 도출 : 정규화 지니계수\n",
        "\n",
        "**장점**\n",
        "\n",
        "1) 과대 적합 방지 효과\n",
        "- K 폴드 방식으로 평가하기 때문에 훈련 데이터와 검증 데이터는 서로 다르다. \n",
        "- 훈련 시 접하지 못한 데이터로 성능을 평가하기 때문에 새로운 데이터에 대한 일반화 성능이 어느 정도일지 가늠하기 쉬움\n",
        "\n",
        "2) 앙상블 효과\n",
        "- 같은 훈련 데이터셋으로 훈련한 2개 이상의 모델의 예측 겨로가를 결합하는 기법\n",
        "- K개 모델로 K번 예측해 평균을 냄\n"
      ]
    },
    {
      "cell_type": "markdown",
      "metadata": {
        "id": "P_RYBWwxdiGW"
      },
      "source": [
        "####**OOF 방식으로 LightGBM 훈련**\n",
        "타깃값이 불균형하기 때문에 층화 K 폴드 수행\n",
        "\n",
        "- `n_splits` : 훈련 데이터를 나누는 폴드 수\n",
        "- `shuffle=True` : 폴드를 나눌 때 데이터를 섞음"
      ]
    },
    {
      "cell_type": "code",
      "execution_count": null,
      "metadata": {
        "id": "zX7lyYcDciN2"
      },
      "outputs": [],
      "source": [
        "from sklearn.model_selection import StratifiedKFold\n",
        "\n",
        "# 층화 K 폴드 교차 검증기\n",
        "folds = StratifiedKFold(n_splits=5, shuffle=True, random_state=1991)"
      ]
    },
    {
      "cell_type": "code",
      "execution_count": null,
      "metadata": {
        "id": "iXkm1JHtd55r"
      },
      "outputs": [],
      "source": [
        "params = {'objective': 'binary',\n",
        "          'learning_rate': 0.01,\n",
        "          'force_row_wise': True, #경고 문구 없애기\n",
        "          'random_state': 0}"
      ]
    },
    {
      "cell_type": "code",
      "execution_count": null,
      "metadata": {
        "id": "1T8Sg5LzeQez"
      },
      "outputs": [],
      "source": [
        "# OOF 방식으로 훈련된 모델로 검증 데이터 타깃값을 예측한 확률을 담을 1차원 배열\n",
        "oof_val_preds = np.zeros(X.shape[0]) \n",
        "# OOF 방식으로 훈련된 모델로 테스트 데이터 타깃값을 예측한 확률을 담을 1차원 배열\n",
        "oof_test_preds = np.zeros(X_test.shape[0]) "
      ]
    },
    {
      "cell_type": "code",
      "execution_count": null,
      "metadata": {
        "colab": {
          "base_uri": "https://localhost:8080/"
        },
        "id": "L47tOI_FeZbT",
        "outputId": "dcb81a4f-0849-4a17-e3a8-7dc65da3d951"
      },
      "outputs": [
        {
          "name": "stdout",
          "output_type": "stream",
          "text": [
            "######################################## 폴드 1 / 폴드 5 ########################################\n",
            "Training until validation scores don't improve for 100 rounds.\n",
            "[100]\tvalid_0's binary_logloss: 0.15336\tvalid_0's gini: 0.261801\n",
            "[200]\tvalid_0's binary_logloss: 0.152428\tvalid_0's gini: 0.275964\n",
            "[300]\tvalid_0's binary_logloss: 0.152018\tvalid_0's gini: 0.282624\n",
            "[400]\tvalid_0's binary_logloss: 0.151798\tvalid_0's gini: 0.286985\n",
            "[500]\tvalid_0's binary_logloss: 0.151716\tvalid_0's gini: 0.288374\n",
            "[600]\tvalid_0's binary_logloss: 0.151677\tvalid_0's gini: 0.288793\n",
            "[700]\tvalid_0's binary_logloss: 0.151671\tvalid_0's gini: 0.288778\n",
            "Early stopping, best iteration is:\n",
            "[646]\tvalid_0's binary_logloss: 0.151673\tvalid_0's gini: 0.288887\n",
            "폴드 1 지니계수 : 0.2888871820172969\n",
            "\n",
            "######################################## 폴드 2 / 폴드 5 ########################################\n",
            "Training until validation scores don't improve for 100 rounds.\n",
            "[100]\tvalid_0's binary_logloss: 0.153506\tvalid_0's gini: 0.249477\n",
            "[200]\tvalid_0's binary_logloss: 0.152709\tvalid_0's gini: 0.260875\n",
            "[300]\tvalid_0's binary_logloss: 0.152395\tvalid_0's gini: 0.267264\n",
            "[400]\tvalid_0's binary_logloss: 0.152231\tvalid_0's gini: 0.271464\n",
            "[500]\tvalid_0's binary_logloss: 0.152158\tvalid_0's gini: 0.273253\n",
            "[600]\tvalid_0's binary_logloss: 0.152128\tvalid_0's gini: 0.274075\n",
            "[700]\tvalid_0's binary_logloss: 0.152119\tvalid_0's gini: 0.274381\n",
            "Early stopping, best iteration is:\n",
            "[678]\tvalid_0's binary_logloss: 0.152116\tvalid_0's gini: 0.274516\n",
            "폴드 2 지니계수 : 0.27451635104937466\n",
            "\n",
            "######################################## 폴드 3 / 폴드 5 ########################################\n",
            "Training until validation scores don't improve for 100 rounds.\n",
            "[100]\tvalid_0's binary_logloss: 0.15326\tvalid_0's gini: 0.261338\n",
            "[200]\tvalid_0's binary_logloss: 0.152329\tvalid_0's gini: 0.271699\n",
            "[300]\tvalid_0's binary_logloss: 0.151974\tvalid_0's gini: 0.276442\n",
            "[400]\tvalid_0's binary_logloss: 0.151813\tvalid_0's gini: 0.278722\n",
            "[500]\tvalid_0's binary_logloss: 0.151758\tvalid_0's gini: 0.279825\n",
            "[600]\tvalid_0's binary_logloss: 0.151753\tvalid_0's gini: 0.279965\n",
            "Early stopping, best iteration is:\n",
            "[548]\tvalid_0's binary_logloss: 0.151747\tvalid_0's gini: 0.280228\n",
            "폴드 3 지니계수 : 0.2802284578966572\n",
            "\n",
            "######################################## 폴드 4 / 폴드 5 ########################################\n",
            "Training until validation scores don't improve for 100 rounds.\n",
            "[100]\tvalid_0's binary_logloss: 0.153399\tvalid_0's gini: 0.250822\n",
            "[200]\tvalid_0's binary_logloss: 0.152546\tvalid_0's gini: 0.263109\n",
            "[300]\tvalid_0's binary_logloss: 0.152255\tvalid_0's gini: 0.266983\n",
            "[400]\tvalid_0's binary_logloss: 0.152111\tvalid_0's gini: 0.270068\n",
            "[500]\tvalid_0's binary_logloss: 0.152075\tvalid_0's gini: 0.270896\n",
            "[600]\tvalid_0's binary_logloss: 0.152074\tvalid_0's gini: 0.270987\n",
            "Early stopping, best iteration is:\n",
            "[579]\tvalid_0's binary_logloss: 0.152067\tvalid_0's gini: 0.271195\n",
            "폴드 4 지니계수 : 0.2711951251992087\n",
            "\n",
            "######################################## 폴드 5 / 폴드 5 ########################################\n",
            "Training until validation scores don't improve for 100 rounds.\n",
            "[100]\tvalid_0's binary_logloss: 0.153481\tvalid_0's gini: 0.26208\n",
            "[200]\tvalid_0's binary_logloss: 0.152621\tvalid_0's gini: 0.273864\n",
            "[300]\tvalid_0's binary_logloss: 0.152266\tvalid_0's gini: 0.279955\n",
            "[400]\tvalid_0's binary_logloss: 0.152049\tvalid_0's gini: 0.285368\n",
            "[500]\tvalid_0's binary_logloss: 0.151974\tvalid_0's gini: 0.287701\n",
            "[600]\tvalid_0's binary_logloss: 0.15195\tvalid_0's gini: 0.288286\n",
            "Early stopping, best iteration is:\n",
            "[594]\tvalid_0's binary_logloss: 0.15195\tvalid_0's gini: 0.288331\n",
            "폴드 5 지니계수 : 0.28833118931840523\n",
            "\n"
          ]
        }
      ],
      "source": [
        "import lightgbm as lgb\n",
        "\n",
        "# OOF 방식으로 모델 훈련, 검증, 예측\n",
        "for idx, (train_idx, valid_idx) in enumerate(folds.split(X, y)):\n",
        "    # 각 폴드를 구분하는 문구 출력\n",
        "    print('#'*40, f'폴드 {idx+1} / 폴드 {folds.n_splits}', '#'*40)\n",
        "    \n",
        "    # 훈련용 데이터, 검증용 데이터 설정 \n",
        "    X_train, y_train = X[train_idx], y[train_idx] # 훈련용 데이터\n",
        "    X_valid, y_valid = X[valid_idx], y[valid_idx] # 검증용 데이터\n",
        "\n",
        "    # LightGBM 전용 데이터셋 생성 \n",
        "    dtrain = lgb.Dataset(X_train, y_train) # LightGBM 전용 훈련 데이터셋\n",
        "    dvalid = lgb.Dataset(X_valid, y_valid) # LightGBM 전용 검증 데이터셋\n",
        "\n",
        "    # LightGBM 모델 훈련 \n",
        "    lgb_model = lgb.train(params=params,        # 훈련용 하이퍼파라미터\n",
        "                          train_set=dtrain,     # 훈련 데이터셋\n",
        "                          num_boost_round=1000, # 부스팅 반복 횟수\n",
        "                          valid_sets=dvalid,    # 성능 평가용 검증 데이터셋\n",
        "                          feval=gini,           # 검증용 평가지표\n",
        "                          early_stopping_rounds=100, # 조기종료 조건\n",
        "                          verbose_eval=100)     # 100번째마다 점수 출력\n",
        "    \n",
        "    # 테스트 데이터를 활용해 OOF 예측\n",
        "    oof_test_preds += lgb_model.predict(X_test)/folds.n_splits\n",
        "    \n",
        "    # 모델 성능 평가를 위한 검증 데이터 타깃값 예측\n",
        "    oof_val_preds[valid_idx] += lgb_model.predict(X_valid)\n",
        "    \n",
        "    # 검증 데이터 예측 확률에 대한 정규화 지니계수 \n",
        "    gini_score = eval_gini(y_valid, oof_val_preds[valid_idx])\n",
        "    print(f'폴드 {idx+1} 지니계수 : {gini_score}\\n')"
      ]
    },
    {
      "cell_type": "markdown",
      "metadata": {
        "id": "CqBE1LJAh5lf"
      },
      "source": [
        "성능 평가점수 : logloss, gini\n",
        "- logloss(로그 손실) : 이진 분류에서 LightGBM의 기본 평가 지표\n",
        "- feval 파라미터에 gini 함수 계산값 전달하여 추가로 출력됨, 지니계수 기준으로 조기종료 적용"
      ]
    },
    {
      "cell_type": "code",
      "execution_count": null,
      "metadata": {
        "colab": {
          "base_uri": "https://localhost:8080/"
        },
        "id": "pDOZxeU_fSHa",
        "outputId": "7a891c64-69d6-4fb6-f461-da67c7499add"
      },
      "outputs": [
        {
          "name": "stdout",
          "output_type": "stream",
          "text": [
            "OOF 검증 데이터 지니계수: 0.2804880266267947\n"
          ]
        }
      ],
      "source": [
        "print('OOF 검증 데이터 지니계수:', eval_gini(y, oof_val_preds))"
      ]
    },
    {
      "cell_type": "markdown",
      "metadata": {
        "id": "bizrE2W7fLAD"
      },
      "source": [
        "###**8.3.4 예측 및 결과 제출**"
      ]
    },
    {
      "cell_type": "code",
      "execution_count": null,
      "metadata": {
        "id": "ku-9MYZofOZd"
      },
      "outputs": [],
      "source": [
        "submission['target'] = oof_test_preds\n",
        "submission.to_csv('submission.csv')"
      ]
    },
    {
      "cell_type": "markdown",
      "metadata": {
        "id": "GmpYPM8zfVSR"
      },
      "source": [
        "프라이빗 : 0.28424, 상위 48%"
      ]
    },
    {
      "cell_type": "markdown",
      "metadata": {
        "id": "SV9uIl6RfaV_"
      },
      "source": [
        "##**8.4 성능개선 1 : LightGBM 모델**\n",
        "파생 피처 추가, 베이지안 최적화"
      ]
    },
    {
      "cell_type": "code",
      "execution_count": null,
      "metadata": {
        "id": "f7WYZdTrfmXT"
      },
      "outputs": [],
      "source": [
        "import pandas as pd\n",
        "\n",
        "#데이터 경로\n",
        "data_path = '/content/drive/MyDrive/ESAA/study/porto-seguro-safe-driver-prediction/'\n",
        "\n",
        "train = pd.read_csv(data_path +'train.csv', index_col = 'id')\n",
        "test = pd.read_csv(data_path +'test.csv', index_col = 'id')\n",
        "submission = pd.read_csv(data_path +'sample_submission.csv', index_col = 'id')"
      ]
    },
    {
      "cell_type": "markdown",
      "metadata": {
        "id": "8_A00tQFs_cD"
      },
      "source": [
        "###**8.4.1 피처 엔지니어링**\n"
      ]
    },
    {
      "cell_type": "markdown",
      "metadata": {
        "id": "pRqVegxHtENf"
      },
      "source": [
        "####**데이터 합치기**\n"
      ]
    },
    {
      "cell_type": "code",
      "execution_count": null,
      "metadata": {
        "id": "rZhD1_uVtGQm"
      },
      "outputs": [],
      "source": [
        "all_data = pd.concat([train,test],ignore_index = True)\n",
        "all_data = all_data.drop('target',axis=1) # 타깃값 제거\n",
        "\n",
        "all_features = all_data.columns # 전체 피처"
      ]
    },
    {
      "cell_type": "markdown",
      "metadata": {
        "id": "VyRWKvtDtTdi"
      },
      "source": [
        "####**명목형 피처 원-핫 인코딩**"
      ]
    },
    {
      "cell_type": "code",
      "execution_count": null,
      "metadata": {
        "id": "uEf2wBWdtWs6"
      },
      "outputs": [],
      "source": [
        "from sklearn.preprocessing import OneHotEncoder\n",
        "\n",
        "# 명목형 피처\n",
        "cat_features = [feature for feature in all_features if 'cat' in feature] \n",
        "\n",
        "# 원-핫 인코딩 적용\n",
        "onehot_encoder = OneHotEncoder()\n",
        "encoded_cat_matrix = onehot_encoder.fit_transform(all_data[cat_features]) "
      ]
    },
    {
      "cell_type": "markdown",
      "metadata": {
        "id": "yQBPNJvEt_2v"
      },
      "source": [
        "####**파생 피처 추가**\n",
        "\n",
        "**1. 한 데이터가 가진 결측값 개수**"
      ]
    },
    {
      "cell_type": "code",
      "execution_count": null,
      "metadata": {
        "id": "0NjujYl2uH__"
      },
      "outputs": [],
      "source": [
        "# '데이터 하나당 결측값 개수'를 파생 피처로 추가\n",
        "all_data['num_missing'] = (all_data==-1).sum(axis=1)"
      ]
    },
    {
      "cell_type": "code",
      "execution_count": null,
      "metadata": {
        "id": "t487wHxdufaz"
      },
      "outputs": [],
      "source": [
        "# 명목형 피처, calc 분류의 피처를 제외한 피처\n",
        "remaining_features = [feature for feature in all_features\n",
        "                      if ('cat' not in feature and 'calc' not in feature)] \n",
        "# num_missing을 remaining_features에 추가\n",
        "remaining_features.append('num_missing')"
      ]
    },
    {
      "cell_type": "markdown",
      "metadata": {
        "id": "sp9eXGrEv-6b"
      },
      "source": [
        "**2. ind 분류의 피처 값 연결**"
      ]
    },
    {
      "cell_type": "code",
      "execution_count": null,
      "metadata": {
        "id": "QPV0j9riwEkv"
      },
      "outputs": [],
      "source": [
        "# 분류가 ind인 피처\n",
        "ind_features = [feature for feature in all_features if 'ind' in feature]\n",
        "\n",
        "is_first_feature = True\n",
        "for ind_feature in ind_features:\n",
        "    if is_first_feature:\n",
        "        all_data['mix_ind'] = all_data[ind_feature].astype(str) + '_'\n",
        "        is_first_feature = False\n",
        "    else:\n",
        "        all_data['mix_ind'] += all_data[ind_feature].astype(str) + '_'"
      ]
    },
    {
      "cell_type": "code",
      "execution_count": null,
      "metadata": {
        "colab": {
          "base_uri": "https://localhost:8080/"
        },
        "id": "QfWRBVUHwJQh",
        "outputId": "d7306577-161a-4a8f-d50f-4e2e8f2b6803"
      },
      "outputs": [
        {
          "data": {
            "text/plain": [
              "0          2_2_5_1_0_0_1_0_0_0_0_0_0_0_11_0_1_0_\n",
              "1           1_1_7_0_0_0_0_1_0_0_0_0_0_0_3_0_0_1_\n",
              "2          5_4_9_1_0_0_0_1_0_0_0_0_0_0_12_1_0_0_\n",
              "3           0_1_2_0_0_1_0_0_0_0_0_0_0_0_8_1_0_0_\n",
              "4           0_2_0_1_0_1_0_0_0_0_0_0_0_0_9_1_0_0_\n",
              "                           ...                  \n",
              "1488023     0_1_6_0_0_0_1_0_0_0_0_0_0_0_2_0_0_1_\n",
              "1488024    5_3_5_1_0_0_0_1_0_0_0_0_0_0_11_1_0_0_\n",
              "1488025     0_1_5_0_0_1_0_0_0_0_0_0_0_0_5_0_0_1_\n",
              "1488026    6_1_5_1_0_0_0_0_1_0_0_0_0_0_13_1_0_0_\n",
              "1488027    7_1_4_1_0_0_0_0_1_0_0_0_0_0_12_1_0_0_\n",
              "Name: mix_ind, Length: 1488028, dtype: object"
            ]
          },
          "execution_count": 7,
          "metadata": {},
          "output_type": "execute_result"
        }
      ],
      "source": [
        "all_data['mix_ind']"
      ]
    },
    {
      "cell_type": "markdown",
      "metadata": {
        "id": "itON740b6SKl"
      },
      "source": [
        "**3. 명목형 피처의 고윳값별 개수를 새로운 피처로 추가**"
      ]
    },
    {
      "cell_type": "code",
      "execution_count": null,
      "metadata": {
        "colab": {
          "base_uri": "https://localhost:8080/"
        },
        "id": "xcgDzy0l6WZo",
        "outputId": "c0922970-5aa7-477a-bb80-fa2497643fa7"
      },
      "outputs": [
        {
          "data": {
            "text/plain": [
              " 1    1079327\n",
              " 2     309747\n",
              " 3      70172\n",
              " 4      28259\n",
              "-1        523\n",
              "Name: ps_ind_02_cat, dtype: int64"
            ]
          },
          "execution_count": 8,
          "metadata": {},
          "output_type": "execute_result"
        }
      ],
      "source": [
        "all_data['ps_ind_02_cat'].value_counts()"
      ]
    },
    {
      "cell_type": "code",
      "execution_count": null,
      "metadata": {
        "colab": {
          "base_uri": "https://localhost:8080/"
        },
        "id": "nGvioWDz6kNg",
        "outputId": "88147fbf-cab7-4c48-fef6-438df1059d31"
      },
      "outputs": [
        {
          "data": {
            "text/plain": [
              "{1: 1079327, 2: 309747, 3: 70172, 4: 28259, -1: 523}"
            ]
          },
          "execution_count": 9,
          "metadata": {},
          "output_type": "execute_result"
        }
      ],
      "source": [
        "all_data['ps_ind_02_cat'].value_counts().to_dict()"
      ]
    },
    {
      "cell_type": "code",
      "execution_count": null,
      "metadata": {
        "id": "VRqfqrCp6389"
      },
      "outputs": [],
      "source": [
        "cat_count_features = []\n",
        "for feature in cat_features+['mix_ind']:\n",
        "    val_counts_dict = all_data[feature].value_counts().to_dict()\n",
        "    all_data[f'{feature}_count'] = all_data[feature].apply(lambda x: \n",
        "                                                           val_counts_dict[x])\n",
        "    cat_count_features.append(f'{feature}_count')"
      ]
    },
    {
      "cell_type": "code",
      "execution_count": null,
      "metadata": {
        "colab": {
          "base_uri": "https://localhost:8080/"
        },
        "id": "AWFooVD367FP",
        "outputId": "eeda538c-ed6c-4c0a-87ce-21b1812bf43b"
      },
      "outputs": [
        {
          "data": {
            "text/plain": [
              "['ps_ind_02_cat_count',\n",
              " 'ps_ind_04_cat_count',\n",
              " 'ps_ind_05_cat_count',\n",
              " 'ps_car_01_cat_count',\n",
              " 'ps_car_02_cat_count',\n",
              " 'ps_car_03_cat_count',\n",
              " 'ps_car_04_cat_count',\n",
              " 'ps_car_05_cat_count',\n",
              " 'ps_car_06_cat_count',\n",
              " 'ps_car_07_cat_count',\n",
              " 'ps_car_08_cat_count',\n",
              " 'ps_car_09_cat_count',\n",
              " 'ps_car_10_cat_count',\n",
              " 'ps_car_11_cat_count',\n",
              " 'mix_ind_count']"
            ]
          },
          "execution_count": 11,
          "metadata": {},
          "output_type": "execute_result"
        }
      ],
      "source": [
        "cat_count_features"
      ]
    },
    {
      "cell_type": "markdown",
      "metadata": {
        "id": "-ezIlpLi8n-k"
      },
      "source": [
        "질문 : 고윳값별 개수가 리스트 형태로 들어가있는건지?"
      ]
    },
    {
      "cell_type": "markdown",
      "metadata": {
        "id": "ifnZIHLR69xv"
      },
      "source": [
        "**필요 없는 피처 제거**\n",
        "\n",
        "지금까지 만들어진 피처\n",
        "- `encoded_cat_matrix` : 원-핫 인코딩 된 명목형 피처\n",
        "- `remaining_features` : 명목형 피처와 calc 분류의 피처를 제외한 피처들 (+num_missing)\n",
        "- `cat_count_features` : mix_ind를 포함한 명목형 피처의 고윳값별 개수 파생 피처"
      ]
    },
    {
      "cell_type": "code",
      "execution_count": null,
      "metadata": {
        "id": "Y4pMLyqD8NMb"
      },
      "outputs": [],
      "source": [
        "from scipy import sparse\n",
        "# 필요 없는 피처들\n",
        "drop_features = ['ps_ind_14', 'ps_ind_10_bin', 'ps_ind_11_bin', \n",
        "                 'ps_ind_12_bin', 'ps_ind_13_bin', 'ps_car_14']\n",
        "\n",
        "# remaining_features, cat_count_features에서 drop_features를 제거한 데이터\n",
        "all_data_remaining = all_data[remaining_features+cat_count_features].drop(drop_features, axis=1)\n",
        "\n",
        "# 데이터 합치기\n",
        "all_data_sprs = sparse.hstack([sparse.csr_matrix(all_data_remaining),\n",
        "                               encoded_cat_matrix],\n",
        "                              format='csr')"
      ]
    },
    {
      "cell_type": "markdown",
      "metadata": {
        "id": "wZKlB5Gu9hBT"
      },
      "source": [
        "####**데이터 나누기**\n"
      ]
    },
    {
      "cell_type": "code",
      "execution_count": null,
      "metadata": {
        "id": "YxVVT0k--c3k"
      },
      "outputs": [],
      "source": [
        "num_train = len(train) # 훈련 데이터 개수\n",
        "\n",
        "# 훈련 데이터와 테스트 데이터 나누기\n",
        "X = all_data_sprs[:num_train]\n",
        "X_test = all_data_sprs[num_train:]\n",
        "\n",
        "y = train['target'].values"
      ]
    },
    {
      "cell_type": "code",
      "execution_count": null,
      "metadata": {
        "id": "NffNQBUYBSSG"
      },
      "outputs": [],
      "source": [
        "import numpy as np\n",
        "\n",
        "def eval_gini(y_true, y_pred):\n",
        "    # 실제값과 예측값의 크기가 같은지 확인 (값이 다르면 오류 발생)\n",
        "    assert y_true.shape == y_pred.shape\n",
        "\n",
        "    n_samples = y_true.shape[0]                      # 데이터 개수\n",
        "    L_mid = np.linspace(1 / n_samples, 1, n_samples) # 대각선 값\n",
        "\n",
        "    # 1) 예측값에 대한 지니계수\n",
        "    pred_order = y_true[y_pred.argsort()] # y_pred 크기순으로 y_true 값 정렬\n",
        "    L_pred = np.cumsum(pred_order) / np.sum(pred_order) # 로렌츠 곡선\n",
        "    G_pred = np.sum(L_mid - L_pred)       # 예측 값에 대한 지니계수\n",
        "\n",
        "    # 2) 예측이 완벽할 때 지니계수\n",
        "    true_order = y_true[y_true.argsort()] # y_true 크기순으로 y_true 값 정렬\n",
        "    L_true = np.cumsum(true_order) / np.sum(true_order) # 로렌츠 곡선\n",
        "    G_true = np.sum(L_mid - L_true)       # 예측이 완벽할 때 지니계수\n",
        "\n",
        "    # 정규화된 지니계수\n",
        "    return G_pred / G_true"
      ]
    },
    {
      "cell_type": "code",
      "execution_count": null,
      "metadata": {
        "id": "v7ANX4kFBUka"
      },
      "outputs": [],
      "source": [
        "# LightGBM용 gini() 함수\n",
        "def gini(preds, dtrain):\n",
        "    labels = dtrain.get_label()\n",
        "    return 'gini', eval_gini(labels, preds), True # 반환값"
      ]
    },
    {
      "cell_type": "markdown",
      "metadata": {
        "id": "_lRR__rT-fyx"
      },
      "source": [
        "###**8.4.2 하이퍼파라미터 최적화**\n",
        "베이지안 최적화 기법"
      ]
    },
    {
      "cell_type": "code",
      "execution_count": null,
      "metadata": {
        "id": "_r4t_JFt-lQJ"
      },
      "outputs": [],
      "source": [
        "import lightgbm as lgb\n",
        "from sklearn.model_selection import train_test_split\n",
        "\n",
        "# 8:2 비율로 훈련 데이터, 검증 데이터 분리 (베이지안 최적화 수행용)\n",
        "X_train, X_valid, y_train, y_valid = train_test_split(X, y, \n",
        "                                                      test_size=0.2, \n",
        "                                                      random_state=0)\n",
        "\n",
        "# 베이지안 최적화용 데이터셋\n",
        "bayes_dtrain = lgb.Dataset(X_train, y_train)\n",
        "bayes_dvalid = lgb.Dataset(X_valid, y_valid)"
      ]
    },
    {
      "cell_type": "markdown",
      "metadata": {
        "id": "FPCAmA1q-r-7"
      },
      "source": [
        "####**하이퍼파라미터 범위 설정**\n",
        "1) 하이퍼파라미터의 범위를 점점 좁히는 방법\n",
        "- 0~1 사이 0.5가 최적이라면 다시 0.5주변으로 범위를 좁혀 탐색\n",
        "\n",
        "2) 캐글러가 설정한 하이퍼파라미터 참고"
      ]
    },
    {
      "cell_type": "code",
      "execution_count": null,
      "metadata": {
        "id": "1gXHCU_g-7Nb"
      },
      "outputs": [],
      "source": [
        "# 베이지안 최적화를 위한 하이퍼파라미터 범위\n",
        "param_bounds = {'num_leaves': (30, 40),\n",
        "                'lambda_l1': (0.7, 0.9),\n",
        "                'lambda_l2': (0.9, 1),\n",
        "                'feature_fraction': (0.6, 0.7),\n",
        "                'bagging_fraction': (0.6, 0.9),\n",
        "                'min_child_samples': (6, 10),\n",
        "                'min_child_weight': (10, 40)}\n",
        "\n",
        "# 값이 고정된 하이퍼파라미터\n",
        "fixed_params = {'objective': 'binary',\n",
        "                'learning_rate': 0.005,\n",
        "                'bagging_freq': 1,\n",
        "                'force_row_wise': True,\n",
        "                'random_state': 1991}"
      ]
    },
    {
      "cell_type": "markdown",
      "metadata": {
        "id": "naZupj9b_D42"
      },
      "source": [
        "####**베이지안 최적화용 평가지표 계산 함수**"
      ]
    },
    {
      "cell_type": "code",
      "execution_count": null,
      "metadata": {
        "id": "ZNRUmXVQ_HCi"
      },
      "outputs": [],
      "source": [
        "def eval_function(num_leaves, lambda_l1, lambda_l2, feature_fraction,\n",
        "                  bagging_fraction, min_child_samples, min_child_weight):\n",
        "    '''최적화하려는 평가지표(지니계수) 계산 함수'''\n",
        "    \n",
        "    # 베이지안 최적화를 수행할 하이퍼파라미터 \n",
        "    params = {'num_leaves': int(round(num_leaves)),\n",
        "              'lambda_l1': lambda_l1,\n",
        "              'lambda_l2': lambda_l2,\n",
        "              'feature_fraction': feature_fraction,\n",
        "              'bagging_fraction': bagging_fraction,\n",
        "              'min_child_samples': int(round(min_child_samples)),\n",
        "              'min_child_weight': min_child_weight,\n",
        "              'feature_pre_filter': False}\n",
        "    # 고정된 하이퍼파라미터도 추가\n",
        "    params.update(fixed_params)\n",
        "    \n",
        "    print('하이퍼파라미터:', params)    \n",
        "    \n",
        "    # LightGBM 모델 훈련\n",
        "    lgb_model = lgb.train(params=params, \n",
        "                           train_set=bayes_dtrain,\n",
        "                           num_boost_round=2500,\n",
        "                           valid_sets=bayes_dvalid,\n",
        "                           feval=gini,\n",
        "                           early_stopping_rounds=300,\n",
        "                           verbose_eval=False)\n",
        "    # 검증 데이터로 예측 수행\n",
        "    preds = lgb_model.predict(X_valid) \n",
        "    # 지니계수 계산\n",
        "    gini_score = eval_gini(y_valid, preds)\n",
        "    print(f'지니계수 : {gini_score}\\n')\n",
        "    \n",
        "    return gini_score"
      ]
    },
    {
      "cell_type": "markdown",
      "metadata": {
        "id": "FVgKC5d5_YGh"
      },
      "source": [
        "####**최적화 수행**\n"
      ]
    },
    {
      "cell_type": "code",
      "execution_count": null,
      "metadata": {
        "colab": {
          "base_uri": "https://localhost:8080/"
        },
        "id": "dtEdVjjhA1FM",
        "outputId": "fbdf5fb4-e5e0-4b53-ed39-545622b9aff5"
      },
      "outputs": [
        {
          "name": "stdout",
          "output_type": "stream",
          "text": [
            "Looking in indexes: https://pypi.org/simple, https://us-python.pkg.dev/colab-wheels/public/simple/\n",
            "Collecting bayesian-optimization\n",
            "  Downloading bayesian_optimization-1.4.2-py3-none-any.whl (17 kB)\n",
            "Collecting colorama>=0.4.6\n",
            "  Downloading colorama-0.4.6-py2.py3-none-any.whl (25 kB)\n",
            "Requirement already satisfied: scikit-learn>=0.18.0 in /usr/local/lib/python3.8/dist-packages (from bayesian-optimization) (1.0.2)\n",
            "Requirement already satisfied: scipy>=1.0.0 in /usr/local/lib/python3.8/dist-packages (from bayesian-optimization) (1.7.3)\n",
            "Requirement already satisfied: numpy>=1.9.0 in /usr/local/lib/python3.8/dist-packages (from bayesian-optimization) (1.21.6)\n",
            "Requirement already satisfied: joblib>=0.11 in /usr/local/lib/python3.8/dist-packages (from scikit-learn>=0.18.0->bayesian-optimization) (1.2.0)\n",
            "Requirement already satisfied: threadpoolctl>=2.0.0 in /usr/local/lib/python3.8/dist-packages (from scikit-learn>=0.18.0->bayesian-optimization) (3.1.0)\n",
            "Installing collected packages: colorama, bayesian-optimization\n",
            "Successfully installed bayesian-optimization-1.4.2 colorama-0.4.6\n"
          ]
        }
      ],
      "source": [
        "!pip install bayesian-optimization"
      ]
    },
    {
      "cell_type": "code",
      "execution_count": null,
      "metadata": {
        "id": "SH8HngPI_co3"
      },
      "outputs": [],
      "source": [
        "from bayes_opt import BayesianOptimization\n",
        "\n",
        "# 베이지안 최적화 객체 생성\n",
        "optimizer = BayesianOptimization(f=eval_function,      # 평가지표 계산 함수\n",
        "                                 pbounds=param_bounds, # 하이퍼파라미터 범위\n",
        "                                 random_state=0)"
      ]
    },
    {
      "cell_type": "code",
      "execution_count": null,
      "metadata": {
        "colab": {
          "background_save": true,
          "base_uri": "https://localhost:8080/"
        },
        "id": "QOLJSM8IBEg1",
        "outputId": "bdaf3bf0-6341-485b-8a61-28abf7abca9c"
      },
      "outputs": [
        {
          "name": "stdout",
          "output_type": "stream",
          "text": [
            "|   iter    |  target   | baggin... | featur... | lambda_l1 | lambda_l2 | min_ch... | min_ch... | num_le... |\n",
            "-------------------------------------------------------------------------------------------------------------\n",
            "하이퍼파라미터: {'num_leaves': 30, 'lambda_l1': 0.7529111224209254, 'lambda_l2': 0.9774233689434216, 'feature_fraction': 0.6414661939990524, 'bagging_fraction': 0.7565544965250215, 'min_child_samples': 8, 'min_child_weight': 27.053018466059456, 'feature_pre_filter': False, 'objective': 'binary', 'learning_rate': 0.005, 'bagging_freq': 1, 'force_row_wise': True, 'random_state': 1991}\n",
            "지니계수 : 0.283932376637082\n",
            "\n",
            "| \u001b[0m3        \u001b[0m | \u001b[0m0.2839   \u001b[0m | \u001b[0m0.7566   \u001b[0m | \u001b[0m0.6415   \u001b[0m | \u001b[0m0.7529   \u001b[0m | \u001b[0m0.9774   \u001b[0m | \u001b[0m7.825    \u001b[0m | \u001b[0m27.05    \u001b[0m | \u001b[0m30.19    \u001b[0m |\n",
            "하이퍼파라미터: {'num_leaves': 34, 'lambda_l1': 0.8233867993749514, 'lambda_l2': 0.9943748078514624, 'feature_fraction': 0.6612095722722421, 'bagging_fraction': 0.7852906491227631, 'min_child_samples': 9, 'min_child_weight': 20.785237017213582, 'feature_pre_filter': False, 'objective': 'binary', 'learning_rate': 0.005, 'bagging_freq': 1, 'force_row_wise': True, 'random_state': 1991}\n",
            "지니계수 : 0.2844530700747425\n",
            "\n",
            "| \u001b[0m4        \u001b[0m | \u001b[0m0.2845   \u001b[0m | \u001b[0m0.7853   \u001b[0m | \u001b[0m0.6612   \u001b[0m | \u001b[0m0.8234   \u001b[0m | \u001b[0m0.9944   \u001b[0m | \u001b[0m8.727    \u001b[0m | \u001b[0m20.79    \u001b[0m | \u001b[0m34.37    \u001b[0m |\n",
            "하이퍼파라미터: {'num_leaves': 33, 'lambda_l1': 0.8333533430891336, 'lambda_l2': 0.9670637869618159, 'feature_fraction': 0.6060225471629269, 'bagging_fraction': 0.8092893587781795, 'min_child_samples': 7, 'min_child_weight': 13.867788929645599, 'feature_pre_filter': False, 'objective': 'binary', 'learning_rate': 0.005, 'bagging_freq': 1, 'force_row_wise': True, 'random_state': 1991}\n",
            "지니계수 : 0.28372039128747134\n",
            "\n",
            "| \u001b[0m5        \u001b[0m | \u001b[0m0.2837   \u001b[0m | \u001b[0m0.8093   \u001b[0m | \u001b[0m0.606    \u001b[0m | \u001b[0m0.8334   \u001b[0m | \u001b[0m0.9671   \u001b[0m | \u001b[0m6.842    \u001b[0m | \u001b[0m13.87    \u001b[0m | \u001b[0m33.15    \u001b[0m |\n",
            "하이퍼파라미터: {'num_leaves': 32, 'lambda_l1': 0.7877203026924641, 'lambda_l2': 0.9988373838059226, 'feature_fraction': 0.657019677041788, 'bagging_fraction': 0.7091132312827868, 'min_child_samples': 6, 'min_child_weight': 16.26630268284504, 'feature_pre_filter': False, 'objective': 'binary', 'learning_rate': 0.005, 'bagging_freq': 1, 'force_row_wise': True, 'random_state': 1991}\n",
            "지니계수 : 0.28511882335850586\n",
            "\n",
            "| \u001b[0m6        \u001b[0m | \u001b[0m0.2851   \u001b[0m | \u001b[0m0.7091   \u001b[0m | \u001b[0m0.657    \u001b[0m | \u001b[0m0.7877   \u001b[0m | \u001b[0m0.9988   \u001b[0m | \u001b[0m6.408    \u001b[0m | \u001b[0m16.27    \u001b[0m | \u001b[0m31.61    \u001b[0m |\n",
            "하이퍼파라미터: {'num_leaves': 37, 'lambda_l1': 0.7932621545712613, 'lambda_l2': 0.9244425592001603, 'feature_fraction': 0.6253291602539782, 'bagging_fraction': 0.7959324976396196, 'min_child_samples': 7, 'min_child_weight': 13.311254234929155, 'feature_pre_filter': False, 'objective': 'binary', 'learning_rate': 0.005, 'bagging_freq': 1, 'force_row_wise': True, 'random_state': 1991}\n",
            "지니계수 : 0.2842800649591853\n",
            "\n",
            "| \u001b[0m7        \u001b[0m | \u001b[0m0.2843   \u001b[0m | \u001b[0m0.7959   \u001b[0m | \u001b[0m0.6253   \u001b[0m | \u001b[0m0.7933   \u001b[0m | \u001b[0m0.9244   \u001b[0m | \u001b[0m6.636    \u001b[0m | \u001b[0m13.31    \u001b[0m | \u001b[0m36.56    \u001b[0m |\n",
            "하이퍼파라미터: {'num_leaves': 32, 'lambda_l1': 0.7577139915303391, 'lambda_l2': 0.9874399917074842, 'feature_fraction': 0.6621665436453258, 'bagging_fraction': 0.7072273954784138, 'min_child_samples': 6, 'min_child_weight': 16.37303083882123, 'feature_pre_filter': False, 'objective': 'binary', 'learning_rate': 0.005, 'bagging_freq': 1, 'force_row_wise': True, 'random_state': 1991}\n",
            "지니계수 : 0.28486124245711253\n",
            "\n",
            "| \u001b[0m8        \u001b[0m | \u001b[0m0.2849   \u001b[0m | \u001b[0m0.7072   \u001b[0m | \u001b[0m0.6622   \u001b[0m | \u001b[0m0.7577   \u001b[0m | \u001b[0m0.9874   \u001b[0m | \u001b[0m6.45     \u001b[0m | \u001b[0m16.37    \u001b[0m | \u001b[0m31.83    \u001b[0m |\n",
            "하이퍼파라미터: {'num_leaves': 39, 'lambda_l1': 0.8289586682854513, 'lambda_l2': 0.9200846926626528, 'feature_fraction': 0.6702441144376899, 'bagging_fraction': 0.8947459727662623, 'min_child_samples': 9, 'min_child_weight': 36.12042125523129, 'feature_pre_filter': False, 'objective': 'binary', 'learning_rate': 0.005, 'bagging_freq': 1, 'force_row_wise': True, 'random_state': 1991}\n",
            "지니계수 : 0.28400749850308227\n",
            "\n",
            "| \u001b[0m9        \u001b[0m | \u001b[0m0.284    \u001b[0m | \u001b[0m0.8947   \u001b[0m | \u001b[0m0.6702   \u001b[0m | \u001b[0m0.829    \u001b[0m | \u001b[0m0.9201   \u001b[0m | \u001b[0m9.419    \u001b[0m | \u001b[0m36.12    \u001b[0m | \u001b[0m39.26    \u001b[0m |\n",
            "하이퍼파라미터: {'num_leaves': 40, 'lambda_l1': 0.7760644072634301, 'lambda_l2': 0.9913808188507752, 'feature_fraction': 0.6992357184281641, 'bagging_fraction': 0.7050265799452304, 'min_child_samples': 9, 'min_child_weight': 35.941092165201205, 'feature_pre_filter': False, 'objective': 'binary', 'learning_rate': 0.005, 'bagging_freq': 1, 'force_row_wise': True, 'random_state': 1991}\n",
            "지니계수 : 0.2851583171288377\n",
            "\n",
            "| \u001b[0m10       \u001b[0m | \u001b[0m0.2852   \u001b[0m | \u001b[0m0.705    \u001b[0m | \u001b[0m0.6992   \u001b[0m | \u001b[0m0.7761   \u001b[0m | \u001b[0m0.9914   \u001b[0m | \u001b[0m9.042    \u001b[0m | \u001b[0m35.94    \u001b[0m | \u001b[0m39.66    \u001b[0m |\n",
            "하이퍼파라미터: {'num_leaves': 36, 'lambda_l1': 0.862092450221885, 'lambda_l2': 0.900511488097541, 'feature_fraction': 0.6556247435580953, 'bagging_fraction': 0.7236613926476847, 'min_child_samples': 8, 'min_child_weight': 16.800997543304433, 'feature_pre_filter': False, 'objective': 'binary', 'learning_rate': 0.005, 'bagging_freq': 1, 'force_row_wise': True, 'random_state': 1991}\n",
            "지니계수 : 0.2840512178278317\n",
            "\n",
            "| \u001b[0m11       \u001b[0m | \u001b[0m0.2841   \u001b[0m | \u001b[0m0.7237   \u001b[0m | \u001b[0m0.6556   \u001b[0m | \u001b[0m0.8621   \u001b[0m | \u001b[0m0.9005   \u001b[0m | \u001b[0m8.223    \u001b[0m | \u001b[0m16.8     \u001b[0m | \u001b[0m36.38    \u001b[0m |\n",
            "하이퍼파라미터: {'num_leaves': 32, 'lambda_l1': 0.829932662510154, 'lambda_l2': 0.9309382272206734, 'feature_fraction': 0.6952194054160209, 'bagging_fraction': 0.6675659367709144, 'min_child_samples': 8, 'min_child_weight': 28.604068940720285, 'feature_pre_filter': False, 'objective': 'binary', 'learning_rate': 0.005, 'bagging_freq': 1, 'force_row_wise': True, 'random_state': 1991}\n",
            "지니계수 : 0.28594459373793224\n",
            "\n",
            "| \u001b[95m12       \u001b[0m | \u001b[95m0.2859   \u001b[0m | \u001b[95m0.6676   \u001b[0m | \u001b[95m0.6952   \u001b[0m | \u001b[95m0.8299   \u001b[0m | \u001b[95m0.9309   \u001b[0m | \u001b[95m7.88     \u001b[0m | \u001b[95m28.6     \u001b[0m | \u001b[95m31.94    \u001b[0m |\n",
            "하이퍼파라미터: {'num_leaves': 32, 'lambda_l1': 0.8953743357247417, 'lambda_l2': 0.9456373506585888, 'feature_fraction': 0.6277080791716466, 'bagging_fraction': 0.745090261009853, 'min_child_samples': 8, 'min_child_weight': 28.951742331152623, 'feature_pre_filter': False, 'objective': 'binary', 'learning_rate': 0.005, 'bagging_freq': 1, 'force_row_wise': True, 'random_state': 1991}\n",
            "지니계수 : 0.2842930651098577\n",
            "\n",
            "| \u001b[0m13       \u001b[0m | \u001b[0m0.2843   \u001b[0m | \u001b[0m0.7451   \u001b[0m | \u001b[0m0.6277   \u001b[0m | \u001b[0m0.8954   \u001b[0m | \u001b[0m0.9456   \u001b[0m | \u001b[0m7.941    \u001b[0m | \u001b[0m28.95    \u001b[0m | \u001b[0m31.97    \u001b[0m |\n",
            "=============================================================================================================\n"
          ]
        }
      ],
      "source": [
        "# 베이지안 최적화 수행\n",
        "optimizer.maximize(init_points=3, n_iter=6)"
      ]
    },
    {
      "cell_type": "markdown",
      "metadata": {
        "id": "4qH5WTk-CxrG"
      },
      "source": [
        "####**결과 확인**\n"
      ]
    },
    {
      "cell_type": "code",
      "execution_count": 27,
      "metadata": {
        "id": "l3wVLH-mC0JU",
        "colab": {
          "base_uri": "https://localhost:8080/"
        },
        "outputId": "e112e3c0-c326-436d-d9e4-02ca83af17d2"
      },
      "outputs": [
        {
          "output_type": "execute_result",
          "data": {
            "text/plain": [
              "{'bagging_fraction': 0.6675659367709144,\n",
              " 'feature_fraction': 0.6952194054160209,\n",
              " 'lambda_l1': 0.829932662510154,\n",
              " 'lambda_l2': 0.9309382272206734,\n",
              " 'min_child_samples': 7.8802172313670225,\n",
              " 'min_child_weight': 28.604068940720285,\n",
              " 'num_leaves': 31.937139259095634}"
            ]
          },
          "metadata": {},
          "execution_count": 27
        }
      ],
      "source": [
        "# 평가함수 점수가 최대일 때 하이퍼파라미터\n",
        "max_params = optimizer.max['params']\n",
        "max_params"
      ]
    },
    {
      "cell_type": "code",
      "execution_count": 28,
      "metadata": {
        "id": "JYVBJbeNC4sx"
      },
      "outputs": [],
      "source": [
        "# 정수형 하이퍼파라미터 변환\n",
        "max_params['num_leaves'] = int(round(max_params['num_leaves']))\n",
        "max_params['min_child_samples'] = int(round(max_params['min_child_samples']))"
      ]
    },
    {
      "cell_type": "code",
      "execution_count": 29,
      "metadata": {
        "id": "2Fj9fIubC5K9"
      },
      "outputs": [],
      "source": [
        "# 값이 고정된 하이퍼파라미터 추가\n",
        "max_params.update(fixed_params)"
      ]
    },
    {
      "cell_type": "code",
      "execution_count": 30,
      "metadata": {
        "id": "6md4yqjdC65u",
        "colab": {
          "base_uri": "https://localhost:8080/"
        },
        "outputId": "32938b82-b22e-4bd4-d088-0bbbb4b324bd"
      },
      "outputs": [
        {
          "output_type": "execute_result",
          "data": {
            "text/plain": [
              "{'bagging_fraction': 0.6675659367709144,\n",
              " 'feature_fraction': 0.6952194054160209,\n",
              " 'lambda_l1': 0.829932662510154,\n",
              " 'lambda_l2': 0.9309382272206734,\n",
              " 'min_child_samples': 8,\n",
              " 'min_child_weight': 28.604068940720285,\n",
              " 'num_leaves': 32,\n",
              " 'objective': 'binary',\n",
              " 'learning_rate': 0.005,\n",
              " 'bagging_freq': 1,\n",
              " 'force_row_wise': True,\n",
              " 'random_state': 1991}"
            ]
          },
          "metadata": {},
          "execution_count": 30
        }
      ],
      "source": [
        "max_params"
      ]
    },
    {
      "cell_type": "markdown",
      "metadata": {
        "id": "fgT6OHDvC8v9"
      },
      "source": [
        "###**8.4.3 모델 훈련 및 성능 검증**"
      ]
    },
    {
      "cell_type": "code",
      "execution_count": null,
      "metadata": {
        "id": "Yiy29KfdDN7W"
      },
      "outputs": [],
      "source": [
        "from sklearn.model_selection import StratifiedKFold\n",
        "\n",
        "# 층화 K 폴드 교차 검증기 생성\n",
        "folds = StratifiedKFold(n_splits=5, shuffle=True, random_state=1991)\n",
        "\n",
        "# OOF 방식으로 훈련된 모델로 검증 데이터 타깃값을 예측한 확률을 담을 1차원 배열\n",
        "oof_val_preds = np.zeros(X.shape[0]) \n",
        "# OOF 방식으로 훈련된 모델로 테스트 데이터 타깃값을 예측한 확률을 담을 1차원 배열\n",
        "oof_test_preds = np.zeros(X_test.shape[0]) \n",
        "\n",
        "# OOF 방식으로 모델 훈련, 검증, 예측\n",
        "for idx, (train_idx, valid_idx) in enumerate(folds.split(X, y)):\n",
        "    # 각 폴드를 구분하는 문구 출력\n",
        "    print('#'*40, f'폴드 {idx+1} / 폴드 {folds.n_splits}', '#'*40)\n",
        "    \n",
        "    # 훈련용 데이터, 검증용 데이터 설정\n",
        "    X_train, y_train = X[train_idx], y[train_idx] # 훈련용 데이터\n",
        "    X_valid, y_valid = X[valid_idx], y[valid_idx] # 검증용 데이터\n",
        "\n",
        "    # LightGBM 전용 데이터셋 생성\n",
        "    dtrain = lgb.Dataset(X_train, y_train) # LightGBM 전용 훈련 데이터셋\n",
        "    dvalid = lgb.Dataset(X_valid, y_valid) # LightGBM 전용 검증 데이터셋\n",
        "                          \n",
        "    # LightGBM 모델 훈련\n",
        "    lgb_model = lgb.train(params=max_params,    # 최적 하이퍼파라미터\n",
        "                          train_set=dtrain,     # 훈련 데이터셋\n",
        "                          num_boost_round=2500, # 부스팅 반복 횟수\n",
        "                          valid_sets=dvalid,    # 성능 평가용 검증 데이터셋\n",
        "                          feval=gini,           # 검증용 평가지표\n",
        "                          early_stopping_rounds=300, # 조기종료 조건\n",
        "                          verbose_eval=100)     # 100번째마다 점수 출력\n",
        "    \n",
        "    # 테스트 데이터를 활용해 OOF 예측\n",
        "    oof_test_preds += lgb_model.predict(X_test)/folds.n_splits\n",
        "    # 모델 성능 평가를 위한 검증 데이터 타깃값 예측 \n",
        "    oof_val_preds[valid_idx] += lgb_model.predict(X_valid)\n",
        "    \n",
        "    # 검증 데이터 예측확률에 대한 정규화 지니계수\n",
        "    gini_score = eval_gini(y_valid, oof_val_preds[valid_idx])\n",
        "    print(f'폴드 {idx+1} 지니계수 : {gini_score}\\n')"
      ]
    },
    {
      "cell_type": "code",
      "execution_count": null,
      "metadata": {
        "id": "OUJr_kRrF0qR"
      },
      "outputs": [],
      "source": [
        "print('OOF 검증 데이터 지니계수 :', eval_gini(y, oof_val_preds))"
      ]
    },
    {
      "cell_type": "markdown",
      "metadata": {
        "id": "1utdyDVdF1HS"
      },
      "source": [
        "###**8.4.4 예측 및 결과 제출**"
      ]
    },
    {
      "cell_type": "code",
      "execution_count": null,
      "metadata": {
        "id": "zExVT_xVF4CC"
      },
      "outputs": [],
      "source": [
        "submission['target'] = oof_test_preds\n",
        "submission.to_csv('submission.csv')"
      ]
    },
    {
      "cell_type": "markdown",
      "metadata": {
        "id": "EaOiF5f7F_oL"
      },
      "source": [
        "프라이빗 0.28424, 퍼블릭 0.27929, 23등"
      ]
    },
    {
      "cell_type": "markdown",
      "metadata": {
        "id": "obvtDprmGFgi"
      },
      "source": [
        "##**8.5 성능개선 2 : XGBoost 모델**\n",
        "**수정사항**\n",
        "1. 지니계수 반환값\n",
        "2. 데이터셋 객체\n",
        "3. 모델 하이퍼파라미터명"
      ]
    },
    {
      "cell_type": "code",
      "source": [
        "import pandas as pd\n",
        "\n",
        "#데이터 경로\n",
        "data_path = '/content/drive/MyDrive/ESAA/study/porto-seguro-safe-driver-prediction/'\n",
        "\n",
        "train = pd.read_csv(data_path +'train.csv', index_col = 'id')\n",
        "test = pd.read_csv(data_path +'test.csv', index_col = 'id')\n",
        "submission = pd.read_csv(data_path +'sample_submission.csv', index_col = 'id')"
      ],
      "metadata": {
        "id": "a3I9bv8xnaBA"
      },
      "execution_count": 2,
      "outputs": []
    },
    {
      "cell_type": "markdown",
      "source": [
        "###**8.5.1 피처 엔지니어링**"
      ],
      "metadata": {
        "id": "ePdUVp8PoFb3"
      }
    },
    {
      "cell_type": "markdown",
      "source": [
        "####**데이터 합치기**"
      ],
      "metadata": {
        "id": "5P5R3lGaokX6"
      }
    },
    {
      "cell_type": "code",
      "source": [
        "all_data = pd.concat([train, test], ignore_index=True)\n",
        "all_data = all_data.drop('target', axis=1) # 타깃값 제거\n",
        "\n",
        "all_features = all_data.columns # 전체 피처"
      ],
      "metadata": {
        "id": "IrZQH5V7oIi3"
      },
      "execution_count": 3,
      "outputs": []
    },
    {
      "cell_type": "markdown",
      "source": [
        "####**명목형 피처 원-핫 인코딩**"
      ],
      "metadata": {
        "id": "XU55pSKDooMl"
      }
    },
    {
      "cell_type": "code",
      "source": [
        "from sklearn.preprocessing import OneHotEncoder\n",
        "\n",
        "# 명목형 피처\n",
        "cat_features = [feature for feature in all_features if 'cat' in feature]\n",
        "\n",
        "# 원-핫 인코딩 적용\n",
        "onehot_encoder = OneHotEncoder()\n",
        "encoded_cat_matrix = onehot_encoder.fit_transform(all_data[cat_features]) "
      ],
      "metadata": {
        "id": "PDZd5aw-oKk8"
      },
      "execution_count": 4,
      "outputs": []
    },
    {
      "cell_type": "markdown",
      "source": [
        "####**파생 피처 추가**"
      ],
      "metadata": {
        "id": "_5RqG6BcoPgV"
      }
    },
    {
      "cell_type": "code",
      "source": [
        "# '데이터 하나당 결측값 개수'를 파생 피처로 추가\n",
        "all_data['num_missing'] = (all_data==-1).sum(axis=1)"
      ],
      "metadata": {
        "id": "Fgc2CcQioSmV"
      },
      "execution_count": 5,
      "outputs": []
    },
    {
      "cell_type": "code",
      "source": [
        "# 명목형 피처, calc 분류 피처를 제외한 피처\n",
        "remaining_features = [feature for feature in all_features\n",
        "                      if ('cat' not in feature and 'calc' not in feature)] \n",
        "# num_missing을 remaining_features에 추가\n",
        "remaining_features.append('num_missing')"
      ],
      "metadata": {
        "id": "pC-akxxQoTDG"
      },
      "execution_count": 6,
      "outputs": []
    },
    {
      "cell_type": "code",
      "source": [
        "# 분류가 ind인 피처\n",
        "ind_features = [feature for feature in all_features if 'ind' in feature]\n",
        "\n",
        "is_first_feature = True\n",
        "for ind_feature in ind_features:\n",
        "    if is_first_feature:\n",
        "        all_data['mix_ind'] = all_data[ind_feature].astype(str) + '_'\n",
        "        is_first_feature = False\n",
        "    else:\n",
        "        all_data['mix_ind'] += all_data[ind_feature].astype(str) + '_'"
      ],
      "metadata": {
        "id": "3eBmdWFBoUwU"
      },
      "execution_count": 7,
      "outputs": []
    },
    {
      "cell_type": "code",
      "source": [
        "cat_count_features = []\n",
        "for feature in cat_features+['mix_ind']:\n",
        "    val_counts_dict = all_data[feature].value_counts().to_dict()\n",
        "    all_data[f'{feature}_count'] = all_data[feature].apply(lambda x: \n",
        "                                                           val_counts_dict[x])\n",
        "    cat_count_features.append(f'{feature}_count')"
      ],
      "metadata": {
        "id": "unczV4uZoW3w"
      },
      "execution_count": 8,
      "outputs": []
    },
    {
      "cell_type": "markdown",
      "source": [
        "####**필요 없는 피처 제거**"
      ],
      "metadata": {
        "id": "K4ze8q-foa2f"
      }
    },
    {
      "cell_type": "code",
      "source": [
        "from scipy import sparse\n",
        "\n",
        "# 필요 없는 피처들\n",
        "drop_features = ['ps_ind_14', 'ps_ind_10_bin', 'ps_ind_11_bin', \n",
        "                 'ps_ind_12_bin', 'ps_ind_13_bin', 'ps_car_14']\n",
        "\n",
        "# remaining_features, cat_count_features에서 drop_features를 제거한 데이터\n",
        "all_data_remaining = all_data[remaining_features+cat_count_features].drop(drop_features, axis=1)\n",
        "\n",
        "# 데이터 합치기\n",
        "all_data_sprs = sparse.hstack([sparse.csr_matrix(all_data_remaining),\n",
        "                               encoded_cat_matrix],\n",
        "                              format='csr')"
      ],
      "metadata": {
        "id": "Oc2umDKhoY93"
      },
      "execution_count": 9,
      "outputs": []
    },
    {
      "cell_type": "markdown",
      "source": [
        "####**데이터 나누기**"
      ],
      "metadata": {
        "id": "3KdIQbi6ohun"
      }
    },
    {
      "cell_type": "code",
      "source": [
        "num_train = len(train) # 훈련 데이터 개수\n",
        "\n",
        "# 훈련 데이터와 테스트 데이터 나누기\n",
        "X = all_data_sprs[:num_train]\n",
        "X_test = all_data_sprs[num_train:]\n",
        "\n",
        "y = train['target'].values"
      ],
      "metadata": {
        "id": "sphQ2MkfogBt"
      },
      "execution_count": 10,
      "outputs": []
    },
    {
      "cell_type": "markdown",
      "source": [
        "####**정규화 지니계수 계산함수**"
      ],
      "metadata": {
        "id": "77M8jzZir2W5"
      }
    },
    {
      "cell_type": "code",
      "source": [
        "import numpy as np\n",
        "\n",
        "def eval_gini(y_true, y_pred):\n",
        "    # 실제값과 예측값의 크기가 같은지 확인 (값이 다르면 오류 발생)\n",
        "    assert y_true.shape == y_pred.shape\n",
        "\n",
        "    n_samples = y_true.shape[0]                      # 데이터 개수\n",
        "    L_mid = np.linspace(1 / n_samples, 1, n_samples) # 대각선 값\n",
        "\n",
        "    # 1) 예측값에 대한 지니계수\n",
        "    pred_order = y_true[y_pred.argsort()] # y_pred 크기순으로 y_true 값 정렬\n",
        "    L_pred = np.cumsum(pred_order) / np.sum(pred_order) # 로렌츠 곡선\n",
        "    G_pred = np.sum(L_mid - L_pred)       # 예측 값에 대한 지니계수\n",
        "\n",
        "    # 2) 예측이 완벽할 때 지니계수\n",
        "    true_order = y_true[y_true.argsort()] # y_true 크기순으로 y_true 값 정렬\n",
        "    L_true = np.cumsum(true_order) / np.sum(true_order) # 로렌츠 곡선\n",
        "    G_true = np.sum(L_mid - L_true)       # 예측이 완벽할 때 지니계수\n",
        "\n",
        "    # 정규화된 지니계수\n",
        "    return G_pred / G_true"
      ],
      "metadata": {
        "id": "0f9Zrw9Ir1qd"
      },
      "execution_count": 11,
      "outputs": []
    },
    {
      "cell_type": "code",
      "source": [
        "# XGBoost용 gini() 함수\n",
        "def gini(preds, dtrain):\n",
        "    labels = dtrain.get_label()\n",
        "    return 'gini', eval_gini(labels, preds)"
      ],
      "metadata": {
        "id": "nXYxkU1cr4ex"
      },
      "execution_count": 12,
      "outputs": []
    },
    {
      "cell_type": "markdown",
      "source": [
        "###**8.5.2 하이퍼파라미터 최적화**"
      ],
      "metadata": {
        "id": "Y1Nei75Tr6H4"
      }
    },
    {
      "cell_type": "markdown",
      "source": [
        "####**데이터셋 준비**"
      ],
      "metadata": {
        "id": "wexpUdEIsHe2"
      }
    },
    {
      "cell_type": "code",
      "source": [
        "import xgboost as xgb\n",
        "from sklearn.model_selection import train_test_split\n",
        "\n",
        "# 8:2 비율로 훈련 데이터, 검증 데이터 분리 (베이지안 최적화 수행용)\n",
        "X_train, X_valid, y_train, y_valid = train_test_split(X, y, \n",
        "                                                      test_size=0.2, \n",
        "                                                      random_state=0)\n",
        "# 베이지안 최적화용 데이터셋\n",
        "bayes_dtrain = xgb.DMatrix(X_train, y_train)\n",
        "bayes_dvalid = xgb.DMatrix(X_valid, y_valid)"
      ],
      "metadata": {
        "id": "b6uAGltfsAAx"
      },
      "execution_count": 13,
      "outputs": []
    },
    {
      "cell_type": "markdown",
      "source": [
        "####**하이퍼파라미터 범위 설정**"
      ],
      "metadata": {
        "id": "YC5l1NsYsTMJ"
      }
    },
    {
      "cell_type": "code",
      "source": [
        "# 베이지안 최적화를 위한 하이퍼파라미터 범위\n",
        "param_bounds = {'max_depth': (4, 8),\n",
        "                'subsample': (0.6, 0.9),\n",
        "                'colsample_bytree': (0.7, 1.0),\n",
        "                'min_child_weight': (5, 7),\n",
        "                'gamma': (8, 11),\n",
        "                'reg_alpha': (7, 9),\n",
        "                'reg_lambda': (1.1, 1.5),\n",
        "                'scale_pos_weight': (1.4, 1.6)}\n",
        "\n",
        "# 값이 고정된 하이퍼파라미터\n",
        "fixed_params = {'objective': 'binary:logistic',\n",
        "                'learning_rate': 0.02,\n",
        "                'random_state': 1991}"
      ],
      "metadata": {
        "id": "f346cqkssGHh"
      },
      "execution_count": 14,
      "outputs": []
    },
    {
      "cell_type": "markdown",
      "source": [
        "####**베이지안 최적화용 평가지표 계산 함수**"
      ],
      "metadata": {
        "id": "DE-FZBWcs9c5"
      }
    },
    {
      "cell_type": "code",
      "source": [
        "def eval_function(max_depth, subsample, colsample_bytree, min_child_weight,\n",
        "                 reg_alpha, gamma, reg_lambda, scale_pos_weight):\n",
        "    '''최적화하려는 평가지표(지니계수) 계산 함수'''\n",
        "    # 베이지안 최적화를 수행할 하이퍼파라미터\n",
        "    params = {'max_depth': int(round(max_depth)),\n",
        "              'subsample': subsample,\n",
        "              'colsample_bytree': colsample_bytree,\n",
        "              'min_child_weight': min_child_weight,\n",
        "              'gamma': gamma,\n",
        "              'reg_alpha':reg_alpha,\n",
        "              'reg_lambda': reg_lambda,\n",
        "              'scale_pos_weight': scale_pos_weight}\n",
        "    # 값이 고정된 하이퍼파라미터도 추가\n",
        "    params.update(fixed_params)\n",
        "    \n",
        "    print('하이퍼파라미터 :', params)    \n",
        "        \n",
        "    # XGBoost 모델 훈련\n",
        "    xgb_model = xgb.train(params=params, \n",
        "                          dtrain=bayes_dtrain,\n",
        "                          num_boost_round=2000,\n",
        "                          evals=[(bayes_dvalid, 'bayes_dvalid')],\n",
        "                          maximize=True,\n",
        "                          feval=gini,\n",
        "                          early_stopping_rounds=200,\n",
        "                          verbose_eval=False)\n",
        "                           \n",
        "    best_iter = xgb_model.best_iteration # 최적 반복 횟수\n",
        "    # 검증 데이터로 예측 수행\n",
        "    preds = xgb_model.predict(bayes_dvalid, \n",
        "                              iteration_range=(0, best_iter))\n",
        "    # 지니계수 계산\n",
        "    gini_score = eval_gini(y_valid, preds)\n",
        "    print(f'지니계수 : {gini_score}\\n')\n",
        "    \n",
        "    return gini_score"
      ],
      "metadata": {
        "id": "--3OCNVrtDnD"
      },
      "execution_count": 15,
      "outputs": []
    },
    {
      "cell_type": "markdown",
      "source": [
        "####**최적화 수행**"
      ],
      "metadata": {
        "id": "XZtlBf__tWOJ"
      }
    },
    {
      "cell_type": "code",
      "source": [
        "from bayes_opt import BayesianOptimization\n",
        "\n",
        "# 베이지안 최적화 객체 생성\n",
        "optimizer = BayesianOptimization(f=eval_function, \n",
        "                                 pbounds=param_bounds, \n",
        "                                 random_state=0)\n",
        "\n",
        "# 베이지안 최적화 수행\n",
        "optimizer.maximize(init_points=3, n_iter=6)"
      ],
      "metadata": {
        "colab": {
          "base_uri": "https://localhost:8080/"
        },
        "id": "jG8hEF1-tXdv",
        "outputId": "c9dc04dc-48d9-4614-953e-f282567bb3b9"
      },
      "execution_count": null,
      "outputs": [
        {
          "metadata": {
            "tags": null
          },
          "name": "stdout",
          "output_type": "stream",
          "text": [
            "|   iter    |  target   | colsam... |   gamma   | max_depth | min_ch... | reg_alpha | reg_la... | scale_... | subsample |\n",
            "-------------------------------------------------------------------------------------------------------------------------\n",
            "하이퍼파라미터 : {'max_depth': 6, 'subsample': 0.867531900234624, 'colsample_bytree': 0.8646440511781974, 'min_child_weight': 6.0897663659937935, 'gamma': 10.14556809911726, 'reg_alpha': 7.84730959867781, 'reg_lambda': 1.3583576452266626, 'scale_pos_weight': 1.4875174422525386, 'objective': 'binary:logistic', 'learning_rate': 0.02, 'random_state': 1991}\n"
          ]
        }
      ]
    },
    {
      "cell_type": "markdown",
      "source": [
        "####**결과 확인**"
      ],
      "metadata": {
        "id": "FqcpB1QQteVw"
      }
    },
    {
      "cell_type": "code",
      "source": [
        "# 평가함수 점수가 최대일 때 하이퍼파라미터\n",
        "max_params = optimizer.max['params']\n",
        "max_params"
      ],
      "metadata": {
        "id": "7I479uxwtfpH"
      },
      "execution_count": null,
      "outputs": []
    },
    {
      "cell_type": "code",
      "source": [
        "# 정수형 하이퍼파라미터 변환\n",
        "max_params['max_depth'] = int(round(max_params['max_depth']))\n",
        "\n",
        "# 값이 고정된 하이퍼파라미터 추가\n",
        "max_params.update(fixed_params)\n",
        "max_params"
      ],
      "metadata": {
        "id": "IU8jpoATth90"
      },
      "execution_count": null,
      "outputs": []
    },
    {
      "cell_type": "markdown",
      "source": [
        "###**8.5.3 모델 훈련 및 성능 검증**"
      ],
      "metadata": {
        "id": "1VEs4V2btjTB"
      }
    },
    {
      "cell_type": "code",
      "source": [
        "from sklearn.model_selection import StratifiedKFold\n",
        "\n",
        "# 층화 K 폴드 교차 검증기 생성\n",
        "folds = StratifiedKFold(n_splits=5, shuffle=True, random_state=1991)\n",
        "\n",
        "# OOF 방식으로 훈련된 모델로 검증 데이터 타깃값을 예측한 확률을 담을 1차원 배열\n",
        "oof_val_preds = np.zeros(X.shape[0]) \n",
        "# OOF 방식으로 훈련된 모델로 테스트 데이터 타깃값을 예측한 확률을 담을 1차원 배열\n",
        "oof_test_preds = np.zeros(X_test.shape[0]) \n",
        "\n",
        "# OOF 방식으로 모델 훈련, 검증, 예측\n",
        "for idx, (train_idx, valid_idx) in enumerate(folds.split(X, y)):\n",
        "    # 각 폴드를 구분하는 문구 출력\n",
        "    print('#'*40, f'폴드 {idx+1} / 폴드 {folds.n_splits}', '#'*40)\n",
        "    \n",
        "    # 훈련용 데이터, 검증용 데이터 설정\n",
        "    X_train, y_train = X[train_idx], y[train_idx]\n",
        "    X_valid, y_valid = X[valid_idx], y[valid_idx]\n",
        "\n",
        "    # XGBoost 전용 데이터셋 생성 \n",
        "    dtrain = xgb.DMatrix(X_train, y_train)\n",
        "    dvalid = xgb.DMatrix(X_valid, y_valid)\n",
        "    dtest = xgb.DMatrix(X_test)\n",
        "    # XGBoost 모델 훈련\n",
        "    xgb_model = xgb.train(params=max_params, \n",
        "                          dtrain=dtrain,\n",
        "                          num_boost_round=2000,\n",
        "                          evals=[(dvalid, 'valid')],\n",
        "                          maximize=True,\n",
        "                          feval=gini,\n",
        "                          early_stopping_rounds=200,\n",
        "                          verbose_eval=100)\n",
        "\n",
        "    # 모델 성능이 가장 좋을 때의 부스팅 반복 횟수 저장\n",
        "    best_iter = xgb_model.best_iteration\n",
        "    # 테스트 데이터를 활용해 OOF 예측\n",
        "    oof_test_preds += xgb_model.predict(dtest,\n",
        "                                        iteration_range=(0, best_iter))/folds.n_splits\n",
        "    \n",
        "    # 모델 성능 평가를 위한 검증 데이터 타깃값 예측 \n",
        "    oof_val_preds[valid_idx] += xgb_model.predict(dvalid, \n",
        "                                                  iteration_range=(0, best_iter))\n",
        "    \n",
        "    # 검증 데이터 예측 확률에 대한 정규화 지니계수\n",
        "    gini_score = eval_gini(y_valid, oof_val_preds[valid_idx])\n",
        "    print(f'폴드 {idx+1} 지니계수 : {gini_score}\\n')\n"
      ],
      "metadata": {
        "id": "EYJm9lGptm5g"
      },
      "execution_count": null,
      "outputs": []
    },
    {
      "cell_type": "code",
      "source": [
        "print('OOF 검증 데이터 지니계수 :', eval_gini(y, oof_val_preds))"
      ],
      "metadata": {
        "id": "e87A0w3lt0ai"
      },
      "execution_count": null,
      "outputs": []
    },
    {
      "cell_type": "markdown",
      "source": [
        "###**8.5.4 예측 및 결과 제출**"
      ],
      "metadata": {
        "id": "byAQflngt016"
      }
    },
    {
      "cell_type": "code",
      "source": [
        "submission['target'] = oof_test_preds\n",
        "submission.to_csv('submission.csv')"
      ],
      "metadata": {
        "id": "FzU_JBv0t43_"
      },
      "execution_count": null,
      "outputs": []
    },
    {
      "cell_type": "markdown",
      "source": [
        "##**8.6 성능개선 3 : LightGBM과 XGBoost 앙상블**"
      ],
      "metadata": {
        "id": "jiZ79n2Lt6xk"
      }
    },
    {
      "cell_type": "markdown",
      "source": [
        "###**8.6.1 앙상블 수행**\n",
        "\n",
        "LightGBM으로 예측한 확률값 = oof_test_preds_lgb\n",
        "\n",
        "XGBoost로 예측한 확률값 = oof_test_preds_xgb\n",
        "\n",
        "50%가중치를 주어 구한 가중평균"
      ],
      "metadata": {
        "id": "dAqwRE0gugoC"
      }
    },
    {
      "cell_type": "code",
      "source": [
        "oof_test_preds = oof_test_preds_lgb *0.5 + oof_test_preds_xgb *0.5"
      ],
      "metadata": {
        "id": "7IFWW2HPujux"
      },
      "execution_count": null,
      "outputs": []
    },
    {
      "cell_type": "markdown",
      "source": [
        "###**8.6.2 예측 및 결과 제출**"
      ],
      "metadata": {
        "id": "HTM9Nr_cvKPi"
      }
    },
    {
      "cell_type": "code",
      "source": [
        "submission['target'] = oof_test_preds\n",
        "submission.to_csv('submission.csv')"
      ],
      "metadata": {
        "id": "0vzg91sivNlz"
      },
      "execution_count": null,
      "outputs": []
    }
  ],
  "metadata": {
    "colab": {
      "provenance": [],
      "mount_file_id": "1pd82ET2YEuaeXdrr-TAv_ZyHKDucSl4X",
      "authorship_tag": "ABX9TyOsx7nNTK4MdOAnYiE6oi7T",
      "include_colab_link": true
    },
    "kernelspec": {
      "display_name": "Python 3",
      "name": "python3"
    },
    "language_info": {
      "name": "python"
    }
  },
  "nbformat": 4,
  "nbformat_minor": 0
}